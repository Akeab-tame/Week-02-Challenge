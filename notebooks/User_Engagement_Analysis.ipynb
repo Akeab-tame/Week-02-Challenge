{
 "cells": [
  {
   "cell_type": "code",
   "execution_count": 1,
   "metadata": {},
   "outputs": [],
   "source": [
    "import pandas as pd\n",
    "import numpy as np\n",
    "from sklearn.preprocessing import MinMaxScaler\n",
    "from sklearn.cluster import KMeans\n",
    "import matplotlib.pyplot as plt\n",
    "import seaborn as sns"
   ]
  },
  {
   "cell_type": "markdown",
   "metadata": {},
   "source": [
    "# Aggregate the above metrics per customer id (MSISDN) and report the top 10 customers per engagement metric"
   ]
  },
  {
   "cell_type": "code",
   "execution_count": 2,
   "metadata": {},
   "outputs": [
    {
     "name": "stderr",
     "output_type": "stream",
     "text": [
      "<>:2: SyntaxWarning: invalid escape sequence '\\d'\n",
      "<>:2: SyntaxWarning: invalid escape sequence '\\d'\n",
      "C:\\Users\\Hello\\AppData\\Local\\Temp\\ipykernel_22168\\3804657477.py:2: SyntaxWarning: invalid escape sequence '\\d'\n",
      "  df = pd.read_csv('..\\data\\Week1_challenge_data_source(CSV).csv')\n"
     ]
    }
   ],
   "source": [
    "# Load dataset\n",
    "df = pd.read_csv('..\\data\\Week1_challenge_data_source(CSV).csv')"
   ]
  },
  {
   "cell_type": "code",
   "execution_count": 3,
   "metadata": {},
   "outputs": [
    {
     "data": {
      "text/html": [
       "<div>\n",
       "<style scoped>\n",
       "    .dataframe tbody tr th:only-of-type {\n",
       "        vertical-align: middle;\n",
       "    }\n",
       "\n",
       "    .dataframe tbody tr th {\n",
       "        vertical-align: top;\n",
       "    }\n",
       "\n",
       "    .dataframe thead th {\n",
       "        text-align: right;\n",
       "    }\n",
       "</style>\n",
       "<table border=\"1\" class=\"dataframe\">\n",
       "  <thead>\n",
       "    <tr style=\"text-align: right;\">\n",
       "      <th></th>\n",
       "      <th>Bearer Id</th>\n",
       "      <th>Start</th>\n",
       "      <th>Start ms</th>\n",
       "      <th>End</th>\n",
       "      <th>End ms</th>\n",
       "      <th>Dur. (ms)</th>\n",
       "      <th>IMSI</th>\n",
       "      <th>MSISDN/Number</th>\n",
       "      <th>IMEI</th>\n",
       "      <th>Last Location Name</th>\n",
       "      <th>...</th>\n",
       "      <th>Youtube DL (Bytes)</th>\n",
       "      <th>Youtube UL (Bytes)</th>\n",
       "      <th>Netflix DL (Bytes)</th>\n",
       "      <th>Netflix UL (Bytes)</th>\n",
       "      <th>Gaming DL (Bytes)</th>\n",
       "      <th>Gaming UL (Bytes)</th>\n",
       "      <th>Other DL (Bytes)</th>\n",
       "      <th>Other UL (Bytes)</th>\n",
       "      <th>Total UL (Bytes)</th>\n",
       "      <th>Total DL (Bytes)</th>\n",
       "    </tr>\n",
       "  </thead>\n",
       "  <tbody>\n",
       "    <tr>\n",
       "      <th>0</th>\n",
       "      <td>1.311448e+19</td>\n",
       "      <td>4/4/2019 12:01</td>\n",
       "      <td>770.0</td>\n",
       "      <td>4/25/2019 14:35</td>\n",
       "      <td>662.0</td>\n",
       "      <td>1823652.0</td>\n",
       "      <td>2.082014e+14</td>\n",
       "      <td>3.366496e+10</td>\n",
       "      <td>3.552121e+13</td>\n",
       "      <td>9.16456699548519E+015</td>\n",
       "      <td>...</td>\n",
       "      <td>1.585461e+07</td>\n",
       "      <td>2.501332e+06</td>\n",
       "      <td>8.198936e+06</td>\n",
       "      <td>9.656251e+06</td>\n",
       "      <td>2.780823e+08</td>\n",
       "      <td>1.434415e+07</td>\n",
       "      <td>1.717444e+08</td>\n",
       "      <td>8.814393e+06</td>\n",
       "      <td>36749741.0</td>\n",
       "      <td>308879636.0</td>\n",
       "    </tr>\n",
       "    <tr>\n",
       "      <th>1</th>\n",
       "      <td>1.311448e+19</td>\n",
       "      <td>4/9/2019 13:04</td>\n",
       "      <td>235.0</td>\n",
       "      <td>4/25/2019 8:15</td>\n",
       "      <td>606.0</td>\n",
       "      <td>1365104.0</td>\n",
       "      <td>2.082019e+14</td>\n",
       "      <td>3.368185e+10</td>\n",
       "      <td>3.579401e+13</td>\n",
       "      <td>L77566A</td>\n",
       "      <td>...</td>\n",
       "      <td>2.024740e+07</td>\n",
       "      <td>1.911173e+07</td>\n",
       "      <td>1.833841e+07</td>\n",
       "      <td>1.722713e+07</td>\n",
       "      <td>6.087501e+08</td>\n",
       "      <td>1.170709e+06</td>\n",
       "      <td>5.269042e+08</td>\n",
       "      <td>1.505514e+07</td>\n",
       "      <td>53800391.0</td>\n",
       "      <td>653384965.0</td>\n",
       "    </tr>\n",
       "    <tr>\n",
       "      <th>2</th>\n",
       "      <td>1.311448e+19</td>\n",
       "      <td>4/9/2019 17:42</td>\n",
       "      <td>1.0</td>\n",
       "      <td>4/25/2019 11:58</td>\n",
       "      <td>652.0</td>\n",
       "      <td>1361762.0</td>\n",
       "      <td>2.082003e+14</td>\n",
       "      <td>3.376063e+10</td>\n",
       "      <td>3.528151e+13</td>\n",
       "      <td>D42335A</td>\n",
       "      <td>...</td>\n",
       "      <td>1.972566e+07</td>\n",
       "      <td>1.469958e+07</td>\n",
       "      <td>1.758779e+07</td>\n",
       "      <td>6.163408e+06</td>\n",
       "      <td>2.295846e+08</td>\n",
       "      <td>3.956300e+05</td>\n",
       "      <td>4.106926e+08</td>\n",
       "      <td>4.215763e+06</td>\n",
       "      <td>27883638.0</td>\n",
       "      <td>279807335.0</td>\n",
       "    </tr>\n",
       "    <tr>\n",
       "      <th>3</th>\n",
       "      <td>1.311448e+19</td>\n",
       "      <td>4/10/2019 0:31</td>\n",
       "      <td>486.0</td>\n",
       "      <td>4/25/2019 7:36</td>\n",
       "      <td>171.0</td>\n",
       "      <td>1321509.0</td>\n",
       "      <td>2.082014e+14</td>\n",
       "      <td>3.375034e+10</td>\n",
       "      <td>3.535661e+13</td>\n",
       "      <td>T21824A</td>\n",
       "      <td>...</td>\n",
       "      <td>2.138812e+07</td>\n",
       "      <td>1.514664e+07</td>\n",
       "      <td>1.399465e+07</td>\n",
       "      <td>1.097942e+06</td>\n",
       "      <td>7.995382e+08</td>\n",
       "      <td>1.084972e+07</td>\n",
       "      <td>7.490399e+08</td>\n",
       "      <td>1.279728e+07</td>\n",
       "      <td>43324218.0</td>\n",
       "      <td>846028530.0</td>\n",
       "    </tr>\n",
       "    <tr>\n",
       "      <th>4</th>\n",
       "      <td>1.311448e+19</td>\n",
       "      <td>4/12/2019 20:10</td>\n",
       "      <td>565.0</td>\n",
       "      <td>4/25/2019 10:40</td>\n",
       "      <td>954.0</td>\n",
       "      <td>1089009.0</td>\n",
       "      <td>2.082014e+14</td>\n",
       "      <td>3.369980e+10</td>\n",
       "      <td>3.540701e+13</td>\n",
       "      <td>D88865A</td>\n",
       "      <td>...</td>\n",
       "      <td>1.525938e+07</td>\n",
       "      <td>1.896287e+07</td>\n",
       "      <td>1.712458e+07</td>\n",
       "      <td>4.152180e+05</td>\n",
       "      <td>5.277072e+08</td>\n",
       "      <td>3.529801e+06</td>\n",
       "      <td>5.507095e+08</td>\n",
       "      <td>1.391032e+07</td>\n",
       "      <td>38542814.0</td>\n",
       "      <td>569138589.0</td>\n",
       "    </tr>\n",
       "    <tr>\n",
       "      <th>...</th>\n",
       "      <td>...</td>\n",
       "      <td>...</td>\n",
       "      <td>...</td>\n",
       "      <td>...</td>\n",
       "      <td>...</td>\n",
       "      <td>...</td>\n",
       "      <td>...</td>\n",
       "      <td>...</td>\n",
       "      <td>...</td>\n",
       "      <td>...</td>\n",
       "      <td>...</td>\n",
       "      <td>...</td>\n",
       "      <td>...</td>\n",
       "      <td>...</td>\n",
       "      <td>...</td>\n",
       "      <td>...</td>\n",
       "      <td>...</td>\n",
       "      <td>...</td>\n",
       "      <td>...</td>\n",
       "      <td>...</td>\n",
       "      <td>...</td>\n",
       "    </tr>\n",
       "    <tr>\n",
       "      <th>149996</th>\n",
       "      <td>7.277826e+18</td>\n",
       "      <td>4/29/2019 7:28</td>\n",
       "      <td>451.0</td>\n",
       "      <td>4/30/2019 6:02</td>\n",
       "      <td>214.0</td>\n",
       "      <td>81230.0</td>\n",
       "      <td>2.082022e+14</td>\n",
       "      <td>3.365069e+10</td>\n",
       "      <td>3.548311e+13</td>\n",
       "      <td>D20434A</td>\n",
       "      <td>...</td>\n",
       "      <td>1.619167e+07</td>\n",
       "      <td>1.176343e+07</td>\n",
       "      <td>1.788370e+07</td>\n",
       "      <td>1.967816e+07</td>\n",
       "      <td>5.266097e+08</td>\n",
       "      <td>9.197207e+06</td>\n",
       "      <td>3.264510e+06</td>\n",
       "      <td>1.348742e+07</td>\n",
       "      <td>57628851.0</td>\n",
       "      <td>574175259.0</td>\n",
       "    </tr>\n",
       "    <tr>\n",
       "      <th>149997</th>\n",
       "      <td>7.349883e+18</td>\n",
       "      <td>4/29/2019 7:28</td>\n",
       "      <td>483.0</td>\n",
       "      <td>4/30/2019 10:41</td>\n",
       "      <td>187.0</td>\n",
       "      <td>97970.0</td>\n",
       "      <td>2.082019e+14</td>\n",
       "      <td>3.366345e+10</td>\n",
       "      <td>3.566051e+13</td>\n",
       "      <td>D10223C</td>\n",
       "      <td>...</td>\n",
       "      <td>1.387723e+07</td>\n",
       "      <td>8.288284e+06</td>\n",
       "      <td>1.935015e+07</td>\n",
       "      <td>2.129315e+07</td>\n",
       "      <td>6.268931e+08</td>\n",
       "      <td>4.735033e+06</td>\n",
       "      <td>7.121804e+08</td>\n",
       "      <td>2.457758e+06</td>\n",
       "      <td>39135081.0</td>\n",
       "      <td>666648844.0</td>\n",
       "    </tr>\n",
       "    <tr>\n",
       "      <th>149998</th>\n",
       "      <td>1.311448e+19</td>\n",
       "      <td>4/29/2019 7:28</td>\n",
       "      <td>283.0</td>\n",
       "      <td>4/30/2019 10:46</td>\n",
       "      <td>810.0</td>\n",
       "      <td>98249.0</td>\n",
       "      <td>2.082017e+14</td>\n",
       "      <td>3.362189e+10</td>\n",
       "      <td>3.572121e+13</td>\n",
       "      <td>T51102A</td>\n",
       "      <td>...</td>\n",
       "      <td>2.266051e+07</td>\n",
       "      <td>1.855903e+06</td>\n",
       "      <td>9.963942e+06</td>\n",
       "      <td>5.065760e+06</td>\n",
       "      <td>5.535395e+08</td>\n",
       "      <td>1.339432e+07</td>\n",
       "      <td>1.211009e+08</td>\n",
       "      <td>1.131473e+07</td>\n",
       "      <td>34912224.0</td>\n",
       "      <td>592786405.0</td>\n",
       "    </tr>\n",
       "    <tr>\n",
       "      <th>149999</th>\n",
       "      <td>1.311448e+19</td>\n",
       "      <td>4/29/2019 7:28</td>\n",
       "      <td>696.0</td>\n",
       "      <td>4/30/2019 10:40</td>\n",
       "      <td>327.0</td>\n",
       "      <td>97910.0</td>\n",
       "      <td>2.082021e+14</td>\n",
       "      <td>3.361962e+10</td>\n",
       "      <td>8.618620e+13</td>\n",
       "      <td>L88342B</td>\n",
       "      <td>...</td>\n",
       "      <td>8.817106e+06</td>\n",
       "      <td>8.305402e+06</td>\n",
       "      <td>3.322253e+06</td>\n",
       "      <td>1.317259e+07</td>\n",
       "      <td>3.525370e+08</td>\n",
       "      <td>2.529475e+06</td>\n",
       "      <td>8.147131e+08</td>\n",
       "      <td>1.406930e+06</td>\n",
       "      <td>29626096.0</td>\n",
       "      <td>371895920.0</td>\n",
       "    </tr>\n",
       "    <tr>\n",
       "      <th>150000</th>\n",
       "      <td>NaN</td>\n",
       "      <td>NaN</td>\n",
       "      <td>NaN</td>\n",
       "      <td>NaN</td>\n",
       "      <td>NaN</td>\n",
       "      <td>NaN</td>\n",
       "      <td>NaN</td>\n",
       "      <td>NaN</td>\n",
       "      <td>NaN</td>\n",
       "      <td>NaN</td>\n",
       "      <td>...</td>\n",
       "      <td>1.163407e+07</td>\n",
       "      <td>1.100941e+07</td>\n",
       "      <td>1.162685e+07</td>\n",
       "      <td>1.100175e+07</td>\n",
       "      <td>4.220447e+08</td>\n",
       "      <td>8.288398e+06</td>\n",
       "      <td>4.211005e+08</td>\n",
       "      <td>8.264799e+06</td>\n",
       "      <td>NaN</td>\n",
       "      <td>NaN</td>\n",
       "    </tr>\n",
       "  </tbody>\n",
       "</table>\n",
       "<p>150001 rows × 55 columns</p>\n",
       "</div>"
      ],
      "text/plain": [
       "           Bearer Id            Start  Start ms              End  End ms  \\\n",
       "0       1.311448e+19   4/4/2019 12:01     770.0  4/25/2019 14:35   662.0   \n",
       "1       1.311448e+19   4/9/2019 13:04     235.0   4/25/2019 8:15   606.0   \n",
       "2       1.311448e+19   4/9/2019 17:42       1.0  4/25/2019 11:58   652.0   \n",
       "3       1.311448e+19   4/10/2019 0:31     486.0   4/25/2019 7:36   171.0   \n",
       "4       1.311448e+19  4/12/2019 20:10     565.0  4/25/2019 10:40   954.0   \n",
       "...              ...              ...       ...              ...     ...   \n",
       "149996  7.277826e+18   4/29/2019 7:28     451.0   4/30/2019 6:02   214.0   \n",
       "149997  7.349883e+18   4/29/2019 7:28     483.0  4/30/2019 10:41   187.0   \n",
       "149998  1.311448e+19   4/29/2019 7:28     283.0  4/30/2019 10:46   810.0   \n",
       "149999  1.311448e+19   4/29/2019 7:28     696.0  4/30/2019 10:40   327.0   \n",
       "150000           NaN              NaN       NaN              NaN     NaN   \n",
       "\n",
       "        Dur. (ms)          IMSI  MSISDN/Number          IMEI  \\\n",
       "0       1823652.0  2.082014e+14   3.366496e+10  3.552121e+13   \n",
       "1       1365104.0  2.082019e+14   3.368185e+10  3.579401e+13   \n",
       "2       1361762.0  2.082003e+14   3.376063e+10  3.528151e+13   \n",
       "3       1321509.0  2.082014e+14   3.375034e+10  3.535661e+13   \n",
       "4       1089009.0  2.082014e+14   3.369980e+10  3.540701e+13   \n",
       "...           ...           ...            ...           ...   \n",
       "149996    81230.0  2.082022e+14   3.365069e+10  3.548311e+13   \n",
       "149997    97970.0  2.082019e+14   3.366345e+10  3.566051e+13   \n",
       "149998    98249.0  2.082017e+14   3.362189e+10  3.572121e+13   \n",
       "149999    97910.0  2.082021e+14   3.361962e+10  8.618620e+13   \n",
       "150000        NaN           NaN            NaN           NaN   \n",
       "\n",
       "           Last Location Name  ...  Youtube DL (Bytes)  Youtube UL (Bytes)  \\\n",
       "0       9.16456699548519E+015  ...        1.585461e+07        2.501332e+06   \n",
       "1                     L77566A  ...        2.024740e+07        1.911173e+07   \n",
       "2                     D42335A  ...        1.972566e+07        1.469958e+07   \n",
       "3                     T21824A  ...        2.138812e+07        1.514664e+07   \n",
       "4                     D88865A  ...        1.525938e+07        1.896287e+07   \n",
       "...                       ...  ...                 ...                 ...   \n",
       "149996                D20434A  ...        1.619167e+07        1.176343e+07   \n",
       "149997                D10223C  ...        1.387723e+07        8.288284e+06   \n",
       "149998                T51102A  ...        2.266051e+07        1.855903e+06   \n",
       "149999                L88342B  ...        8.817106e+06        8.305402e+06   \n",
       "150000                    NaN  ...        1.163407e+07        1.100941e+07   \n",
       "\n",
       "        Netflix DL (Bytes)  Netflix UL (Bytes)  Gaming DL (Bytes)  \\\n",
       "0             8.198936e+06        9.656251e+06       2.780823e+08   \n",
       "1             1.833841e+07        1.722713e+07       6.087501e+08   \n",
       "2             1.758779e+07        6.163408e+06       2.295846e+08   \n",
       "3             1.399465e+07        1.097942e+06       7.995382e+08   \n",
       "4             1.712458e+07        4.152180e+05       5.277072e+08   \n",
       "...                    ...                 ...                ...   \n",
       "149996        1.788370e+07        1.967816e+07       5.266097e+08   \n",
       "149997        1.935015e+07        2.129315e+07       6.268931e+08   \n",
       "149998        9.963942e+06        5.065760e+06       5.535395e+08   \n",
       "149999        3.322253e+06        1.317259e+07       3.525370e+08   \n",
       "150000        1.162685e+07        1.100175e+07       4.220447e+08   \n",
       "\n",
       "        Gaming UL (Bytes)  Other DL (Bytes)  Other UL (Bytes)  \\\n",
       "0            1.434415e+07      1.717444e+08      8.814393e+06   \n",
       "1            1.170709e+06      5.269042e+08      1.505514e+07   \n",
       "2            3.956300e+05      4.106926e+08      4.215763e+06   \n",
       "3            1.084972e+07      7.490399e+08      1.279728e+07   \n",
       "4            3.529801e+06      5.507095e+08      1.391032e+07   \n",
       "...                   ...               ...               ...   \n",
       "149996       9.197207e+06      3.264510e+06      1.348742e+07   \n",
       "149997       4.735033e+06      7.121804e+08      2.457758e+06   \n",
       "149998       1.339432e+07      1.211009e+08      1.131473e+07   \n",
       "149999       2.529475e+06      8.147131e+08      1.406930e+06   \n",
       "150000       8.288398e+06      4.211005e+08      8.264799e+06   \n",
       "\n",
       "        Total UL (Bytes)  Total DL (Bytes)  \n",
       "0             36749741.0       308879636.0  \n",
       "1             53800391.0       653384965.0  \n",
       "2             27883638.0       279807335.0  \n",
       "3             43324218.0       846028530.0  \n",
       "4             38542814.0       569138589.0  \n",
       "...                  ...               ...  \n",
       "149996        57628851.0       574175259.0  \n",
       "149997        39135081.0       666648844.0  \n",
       "149998        34912224.0       592786405.0  \n",
       "149999        29626096.0       371895920.0  \n",
       "150000               NaN               NaN  \n",
       "\n",
       "[150001 rows x 55 columns]"
      ]
     },
     "execution_count": 3,
     "metadata": {},
     "output_type": "execute_result"
    }
   ],
   "source": [
    "df"
   ]
  },
  {
   "cell_type": "code",
   "execution_count": 6,
   "metadata": {},
   "outputs": [],
   "source": [
    "# Aggregate metrics per customer ID (MSISDN)\n",
    "df['total_traffic'] = df['Total DL (Bytes)'] + df['Total UL (Bytes)']\n",
    "user_metrics = df.groupby('MSISDN/Number').agg(\n",
    "    session_frequency=('MSISDN/Number', 'count'),\n",
    "    session_duration=('Dur. (ms).1', 'sum'),\n",
    "    total_traffic=('total_traffic', 'sum')\n",
    ").reset_index()"
   ]
  },
  {
   "cell_type": "code",
   "execution_count": 7,
   "metadata": {},
   "outputs": [],
   "source": [
    "# Report top 10 customers per engagement metric\n",
    "top_10_frequency = user_metrics.nlargest(10, 'session_frequency')\n",
    "top_10_duration = user_metrics.nlargest(10, 'session_duration')\n",
    "top_10_traffic = user_metrics.nlargest(10, 'total_traffic')"
   ]
  },
  {
   "cell_type": "code",
   "execution_count": 8,
   "metadata": {},
   "outputs": [
    {
     "name": "stdout",
     "output_type": "stream",
     "text": [
      "Top 10 users by session frequency:\n",
      "       MSISDN/Number  session_frequency  session_duration  total_traffic\n",
      "13526   3.362632e+10                 18      8.791937e+09   7.971167e+09\n",
      "6437    3.361489e+10                 17      9.966906e+09   8.846226e+09\n",
      "13180   3.362578e+10                 17      1.855376e+10   8.499621e+09\n",
      "37052   3.365973e+10                 16      4.035436e+09   7.705863e+09\n",
      "76363   3.367588e+10                 15      4.865954e+09   7.891111e+09\n",
      "92923   3.376054e+10                 15      9.279442e+09   8.514774e+09\n",
      "65118   3.366716e+10                 13      8.744922e+09   5.618394e+09\n",
      "666     3.360313e+10                 12      6.287767e+09   4.976195e+09\n",
      "1279    3.360452e+10                 12      5.207995e+09   5.487855e+09\n",
      "13994   3.362708e+10                 12      4.703519e+09   5.754731e+09\n",
      "Top 10 users by session duration:\n",
      "       MSISDN/Number  session_frequency  session_duration  total_traffic\n",
      "13180   3.362578e+10                 17      1.855376e+10   8.499621e+09\n",
      "6437    3.361489e+10                 17      9.966906e+09   8.846226e+09\n",
      "92923   3.376054e+10                 15      9.279442e+09   8.514774e+09\n",
      "13526   3.362632e+10                 18      8.791937e+09   7.971167e+09\n",
      "65118   3.366716e+10                 13      8.744922e+09   5.618394e+09\n",
      "50281   3.366284e+10                  9      6.614274e+09   4.000098e+09\n",
      "57160   3.366469e+10                  9      6.288736e+09   5.682007e+09\n",
      "666     3.360313e+10                 12      6.287767e+09   4.976195e+09\n",
      "66029   3.366746e+10                  6      5.649885e+09   2.600522e+09\n",
      "92577   3.376041e+10                 12      5.321674e+09   7.132371e+09\n",
      "Top 10 users by total traffic:\n",
      "       MSISDN/Number  session_frequency  session_duration  total_traffic\n",
      "6437    3.361489e+10                 17      9.966906e+09   8.846226e+09\n",
      "92923   3.376054e+10                 15      9.279442e+09   8.514774e+09\n",
      "13180   3.362578e+10                 17      1.855376e+10   8.499621e+09\n",
      "13526   3.362632e+10                 18      8.791937e+09   7.971167e+09\n",
      "76363   3.367588e+10                 15      4.865954e+09   7.891111e+09\n",
      "37052   3.365973e+10                 16      4.035436e+09   7.705863e+09\n",
      "63028   3.366646e+10                 11      4.536764e+09   7.308501e+09\n",
      "92577   3.376041e+10                 12      5.321674e+09   7.132371e+09\n",
      "57241   3.366471e+10                 11      2.927790e+09   6.872018e+09\n",
      "86455   3.369879e+10                 11      5.169134e+09   6.540899e+09\n"
     ]
    }
   ],
   "source": [
    "# Print top 10 users\n",
    "print(\"Top 10 users by session frequency:\")\n",
    "print(top_10_frequency)\n",
    "print(\"Top 10 users by session duration:\")\n",
    "print(top_10_duration)\n",
    "print(\"Top 10 users by total traffic:\")\n",
    "print(top_10_traffic)"
   ]
  },
  {
   "cell_type": "markdown",
   "metadata": {},
   "source": [
    "# Normalize each engagement metric and run a k-means (k=3) to classify customers in three groups of engagement."
   ]
  },
  {
   "cell_type": "code",
   "execution_count": 9,
   "metadata": {},
   "outputs": [],
   "source": [
    "# Normalize engagement metrics\n",
    "scaler = MinMaxScaler()\n",
    "user_metrics[['session_frequency', 'session_duration', 'total_traffic']] = scaler.fit_transform(\n",
    "    user_metrics[['session_frequency', 'session_duration', 'total_traffic']])\n"
   ]
  },
  {
   "cell_type": "code",
   "execution_count": 10,
   "metadata": {},
   "outputs": [],
   "source": [
    "# Run k-means clustering (k=3)\n",
    "kmeans = KMeans(n_clusters=3, random_state=42)\n",
    "user_metrics['cluster'] = kmeans.fit_predict(user_metrics[['session_frequency', 'session_duration', 'total_traffic']])\n"
   ]
  },
  {
   "cell_type": "code",
   "execution_count": 12,
   "metadata": {},
   "outputs": [
    {
     "name": "stdout",
     "output_type": "stream",
     "text": [
      "Cluster assignments:\n",
      "   MSISDN/Number  cluster\n",
      "0   3.360100e+10        2\n",
      "1   3.360100e+10        2\n",
      "2   3.360100e+10        2\n",
      "3   3.360101e+10        2\n",
      "4   3.360101e+10        0\n"
     ]
    }
   ],
   "source": [
    "# Print cluster assignments\n",
    "print(\"Cluster assignments:\")\n",
    "print(user_metrics[['MSISDN/Number', 'cluster']].head())"
   ]
  },
  {
   "cell_type": "markdown",
   "metadata": {},
   "source": [
    "# Compute the minimum, maximum, average & total non-normalized metrics for each cluster:"
   ]
  },
  {
   "cell_type": "code",
   "execution_count": 13,
   "metadata": {},
   "outputs": [],
   "source": [
    "# Compute min, max, avg, and total for each cluster (using non-normalized metrics)\n",
    "original_user_metrics = df.groupby('MSISDN/Number').agg(\n",
    "    session_frequency=('MSISDN/Number', 'count'),\n",
    "    session_duration=('Dur. (ms).1', 'sum'),\n",
    "    total_traffic=('total_traffic', 'sum')\n",
    ").reset_index()"
   ]
  },
  {
   "cell_type": "code",
   "execution_count": 14,
   "metadata": {},
   "outputs": [],
   "source": [
    "original_user_metrics['cluster'] = user_metrics['cluster']"
   ]
  },
  {
   "cell_type": "code",
   "execution_count": 15,
   "metadata": {},
   "outputs": [],
   "source": [
    "cluster_summary = original_user_metrics.groupby('cluster').agg(\n",
    "    min_session_frequency=('session_frequency', 'min'),\n",
    "    max_session_frequency=('session_frequency', 'max'),\n",
    "    avg_session_frequency=('session_frequency', 'mean'),\n",
    "    total_session_frequency=('session_frequency', 'sum'),\n",
    "    min_session_duration=('session_duration', 'min'),\n",
    "    max_session_duration=('session_duration', 'max'),\n",
    "    avg_session_duration=('session_duration', 'mean'),\n",
    "    total_session_duration=('session_duration', 'sum'),\n",
    "    min_total_traffic=('total_traffic', 'min'),\n",
    "    max_total_traffic=('total_traffic', 'max'),\n",
    "    avg_total_traffic=('total_traffic', 'mean'),\n",
    "    total_total_traffic=('total_traffic', 'sum')\n",
    ").reset_index()"
   ]
  },
  {
   "cell_type": "code",
   "execution_count": 16,
   "metadata": {},
   "outputs": [
    {
     "name": "stdout",
     "output_type": "stream",
     "text": [
      "Cluster summary:\n",
      "   cluster  min_session_frequency  max_session_frequency  \\\n",
      "0        0                      2                      4   \n",
      "1        1                      3                     18   \n",
      "2        2                      1                      2   \n",
      "\n",
      "   avg_session_frequency  total_session_frequency  min_session_duration  \\\n",
      "0               2.176052                    47068            18235797.0   \n",
      "1               4.248279                    17282            46899075.0   \n",
      "2               1.042226                    84585             7142988.0   \n",
      "\n",
      "   max_session_duration  avg_session_duration  total_session_duration  \\\n",
      "0          3.174825e+09          2.136017e+08            4.620205e+12   \n",
      "1          1.855376e+10          5.693325e+08            2.316045e+12   \n",
      "2          1.573421e+09          1.069848e+08            8.682669e+12   \n",
      "\n",
      "   min_total_traffic  max_total_traffic  avg_total_traffic  \\\n",
      "0       2.842182e+08       1.873330e+09       1.125421e+09   \n",
      "1       1.085994e+09       8.846226e+09       2.280321e+09   \n",
      "2       3.324901e+07       9.507607e+08       4.955057e+08   \n",
      "\n",
      "   total_total_traffic  \n",
      "0         2.434285e+13  \n",
      "1         9.276344e+12  \n",
      "2         4.021425e+13  \n"
     ]
    }
   ],
   "source": [
    "# Print cluster summary\n",
    "print(\"Cluster summary:\")\n",
    "print(cluster_summary)"
   ]
  },
  {
   "cell_type": "code",
   "execution_count": 19,
   "metadata": {},
   "outputs": [
    {
     "data": {
      "image/png": "[encoded data removed]",
      "text/plain": [
       "<Figure size 1000x600 with 1 Axes>"
      ]
     },
     "metadata": {},
     "output_type": "display_data"
    },
    {
     "data": {
      "image/png": "[encoded data removed]",
      "text/plain": [
       "<Figure size 1000x600 with 1 Axes>"
      ]
     },
     "metadata": {},
     "output_type": "display_data"
    }
   ],
   "source": [
    "# Visualize cluster engagement\n",
    "plt.figure(figsize=(10,6))\n",
    "sns.barplot(x='cluster', y='avg_session_duration', data=cluster_summary)\n",
    "plt.title('Average Session Duration by Cluster')\n",
    "plt.show()\n",
    "\n",
    "plt.figure(figsize=(10,6))\n",
    "sns.barplot(x='cluster', y='avg_total_traffic', data=cluster_summary)\n",
    "plt.title('Average Total Traffic by Cluster')\n",
    "plt.show()"
   ]
  },
  {
   "cell_type": "markdown",
   "metadata": {},
   "source": [
    "# Aggregate total traffic per application and derive top 10 most engaged users per app:"
   ]
  },
  {
   "cell_type": "code",
   "execution_count": 20,
   "metadata": {},
   "outputs": [],
   "source": [
    "df['Social Media data'] = df['Social Media DL (Bytes)'] + df['Social Media UL (Bytes)']\n",
    "df['Google data'] = df['Google DL (Bytes)'] + df['Google UL (Bytes)']\n",
    "df['Email data'] = df['Email DL (Bytes)'] + df['Email UL (Bytes)']\n",
    "df['Youtube data'] = df['Youtube DL (Bytes)'] + df['Youtube UL (Bytes)']\n",
    "df['Netflix data'] = df['Netflix DL (Bytes)'] + df['Netflix UL (Bytes)']\n",
    "df['Gaming data'] = df['Gaming DL (Bytes)'] + df['Gaming UL (Bytes)']\n",
    "df['Other data'] = df['Other DL (Bytes)'] + df['Other UL (Bytes)']\n"
   ]
  },
  {
   "cell_type": "code",
   "execution_count": 32,
   "metadata": {},
   "outputs": [],
   "source": [
    "# Aggregate total traffic per application per user\n",
    "\n",
    "# List of the application variables \n",
    "applications = ['Social Media data', 'Google data', 'Email data', 'Youtube data', 'Netflix data', 'Gaming data', 'Other data']\n",
    "\n",
    "\n",
    "app_traffic = df.groupby(['MSISDN/Number', 'Social Media data', 'Google data', 'Email data', 'Youtube data', 'Netflix data', 'Gaming data', 'Other data']).agg(\n",
    "    total_app_traffic=('total_traffic', 'sum')\n",
    ").reset_index()"
   ]
  },
  {
   "cell_type": "code",
   "execution_count": 30,
   "metadata": {},
   "outputs": [
    {
     "name": "stderr",
     "output_type": "stream",
     "text": [
      "C:\\Users\\Hello\\AppData\\Local\\Temp\\ipykernel_22168\\4241504595.py:2: DeprecationWarning: DataFrameGroupBy.apply operated on the grouping columns. This behavior is deprecated, and in a future version of pandas the grouping columns will be excluded from the operation. Either pass `include_groups=False` to exclude the groupings or explicitly select the grouping columns after groupby to silence this warning.\n",
      "  top_10_per_app = app_traffic.groupby('Social Media data', group_keys=False).apply(\n"
     ]
    }
   ],
   "source": [
    "# Derive top 10 most engaged users per application\n",
    "top_10_per_app = app_traffic.groupby('Social Media data', group_keys=False).apply(\n",
    "    lambda x: x.nlargest(10, columns='total_app_traffic')).reset_index(drop=True)\n"
   ]
  },
  {
   "cell_type": "code",
   "execution_count": 31,
   "metadata": {},
   "outputs": [
    {
     "name": "stdout",
     "output_type": "stream",
     "text": [
      "Top 10 users per application:\n",
      "        MSISDN/Number  Social Media data  total_app_traffic\n",
      "0        3.366119e+10             1563.0        424126106.0\n",
      "1        3.366287e+10             1753.0        622175722.0\n",
      "2        3.365984e+10             2003.0        362208330.0\n",
      "3        3.366298e+10             2050.0        641433912.0\n",
      "4        3.366430e+10             3111.0        297296850.0\n",
      "...               ...                ...                ...\n",
      "148930   3.361008e+10          3648659.0        283278175.0\n",
      "148931   3.365856e+10          3648729.0        811819225.0\n",
      "148932   3.365205e+10          3648814.0        155655066.0\n",
      "148933   3.375024e+10          3650240.0        537130735.0\n",
      "148934   3.366178e+10          3650861.0        202861272.0\n",
      "\n",
      "[148935 rows x 3 columns]\n"
     ]
    }
   ],
   "source": [
    "# Print top 10 users per application\n",
    "print(\"Top 10 users per application:\")\n",
    "print(top_10_per_app)"
   ]
  },
  {
   "cell_type": "code",
   "execution_count": 34,
   "metadata": {},
   "outputs": [
    {
     "name": "stderr",
     "output_type": "stream",
     "text": [
      "C:\\Users\\Hello\\AppData\\Local\\Temp\\ipykernel_22168\\88014188.py:2: DeprecationWarning: DataFrameGroupBy.apply operated on the grouping columns. This behavior is deprecated, and in a future version of pandas the grouping columns will be excluded from the operation. Either pass `include_groups=False` to exclude the groupings or explicitly select the grouping columns after groupby to silence this warning.\n",
      "  top_10_per_app = app_traffic.groupby('Youtube data', group_keys=False).apply(\n"
     ]
    }
   ],
   "source": [
    "# Derive top 10 most engaged users per application\n",
    "top_10_per_app = app_traffic.groupby('Youtube data', group_keys=False).apply(\n",
    "    lambda x: x.nlargest(10, columns='total_app_traffic')).reset_index(drop=True)\n"
   ]
  },
  {
   "cell_type": "code",
   "execution_count": 35,
   "metadata": {},
   "outputs": [
    {
     "name": "stdout",
     "output_type": "stream",
     "text": [
      "Top 10 users per application:\n",
      "        MSISDN/Number  Social Media data  Google data  Email data  \\\n",
      "0        3.365817e+10          1022021.0    8866232.0   3498859.0   \n",
      "1        3.366504e+10          1474913.0    5872860.0   4271192.0   \n",
      "2        3.366949e+10          3302960.0   14303411.0   2604393.0   \n",
      "3        3.364809e+10          3537729.0   12817131.0   2297960.0   \n",
      "4        3.376848e+10          3077236.0   13260697.0   1878083.0   \n",
      "...               ...                ...          ...         ...   \n",
      "148930   3.367443e+10          2593593.0    8733894.0    791357.0   \n",
      "148931   3.366319e+10           379769.0   10081501.0   2732906.0   \n",
      "148932   3.366407e+10          1580721.0    5048494.0   3026032.0   \n",
      "148933   3.366957e+10          2772152.0    6902988.0    808292.0   \n",
      "148934   3.368757e+10          3357373.0    7074674.0    526202.0   \n",
      "\n",
      "        Youtube data  Netflix data  Gaming data   Other data  \\\n",
      "0            78903.0    18791567.0  354747709.0  801070047.0   \n",
      "1           129655.0    26134607.0  561758048.0  404237278.0   \n",
      "2           157446.0    30087360.0  702887849.0  400050320.0   \n",
      "3           207955.0    20192412.0  217199577.0  812948973.0   \n",
      "4           226562.0    15576249.0  431520910.0  647192117.0   \n",
      "...              ...           ...          ...          ...   \n",
      "148930    45158398.0    38476635.0  589401716.0  570064999.0   \n",
      "148931    45162724.0    21982727.0  215632123.0  576835542.0   \n",
      "148932    45170035.0    40495194.0  606297391.0  264575205.0   \n",
      "148933    45179008.0    20067568.0  473625319.0  167508507.0   \n",
      "148934    45190078.0    20614337.0  416907231.0  782990084.0   \n",
      "\n",
      "        total_app_traffic  \n",
      "0             395504529.0  \n",
      "1             611703396.0  \n",
      "2             756804060.0  \n",
      "3             260655635.0  \n",
      "4             466769521.0  \n",
      "...                   ...  \n",
      "148930        691324593.0  \n",
      "148931        298714291.0  \n",
      "148932        707917077.0  \n",
      "148933        549870530.0  \n",
      "148934        505625731.0  \n",
      "\n",
      "[148935 rows x 9 columns]\n"
     ]
    }
   ],
   "source": [
    "# Print top 10 users per application\n",
    "print(\"Top 10 users per application:\")\n",
    "print(top_10_per_app)"
   ]
  },
  {
   "cell_type": "markdown",
   "metadata": {},
   "source": [
    "# Plot top 3 most used applications"
   ]
  },
  {
   "cell_type": "code",
   "execution_count": 74,
   "metadata": {},
   "outputs": [],
   "source": [
    "# List of the application variables \n",
    "applications = ['Social Media data', 'Google data', 'Email data', 'Youtube data', 'Netflix data', 'Gaming data', 'Other data']\n",
    "\n",
    "\n",
    "#  Aggregate total traffic per application\n",
    "app_usage = df.groupby(applications).agg(\n",
    "    total_traffic=('total_traffic', 'sum')\n",
    ").reset_index()"
   ]
  },
  {
   "cell_type": "code",
   "execution_count": 79,
   "metadata": {},
   "outputs": [],
   "source": [
    "total_data_usage = df[applications].sum()"
   ]
  },
  {
   "cell_type": "code",
   "execution_count": 80,
   "metadata": {},
   "outputs": [],
   "source": [
    "# Step 3: Sort the data to get the top 3 applications\n",
    "top_3_apps = total_data_usage.nlargest(3)"
   ]
  },
  {
   "cell_type": "code",
   "execution_count": 87,
   "metadata": {},
   "outputs": [
    {
     "name": "stderr",
     "output_type": "stream",
     "text": [
      "C:\\Users\\Hello\\AppData\\Local\\Temp\\ipykernel_22168\\701608110.py:3: FutureWarning: \n",
      "\n",
      "Passing `palette` without assigning `hue` is deprecated and will be removed in v0.14.0. Assign the `x` variable to `hue` and set `legend=False` for the same effect.\n",
      "\n",
      "  sns.barplot(x=top_3_apps.index, y=top_3_apps.values, palette='coolwarm')\n"
     ]
    },
    {
     "data": {
      "image/png": "[encoded data removed]",
      "text/plain": [
       "<Figure size 800x600 with 1 Axes>"
      ]
     },
     "metadata": {},
     "output_type": "display_data"
    }
   ],
   "source": [
    "# Step 4: Plot the data using a bar chart\n",
    "plt.figure(figsize=(8, 6))\n",
    "sns.barplot(x=top_3_apps.index, y=top_3_apps.values, palette='coolwarm')\n",
    "\n",
    "# Adding title and labels\n",
    "plt.title('Top 3 Most Used Applications', fontsize=16)\n",
    "plt.xlabel('Application', fontsize=12)\n",
    "plt.ylabel('Total Data Usage', fontsize=12)\n",
    "\n",
    "# Show the plot\n",
    "plt.show()"
   ]
  },
  {
   "cell_type": "markdown",
   "metadata": {},
   "source": [
    "# Using k-means clustering algorithm to group users based on engagement metrics & finding the optimal k using the elbow method:"
   ]
  },
  {
   "cell_type": "code",
   "execution_count": 67,
   "metadata": {},
   "outputs": [],
   "source": [
    "# Elbow method to find optimal value of k\n",
    "inertia = []\n",
    "k_values = range(1, 11)\n",
    "for k in k_values:\n",
    "    kmeans = KMeans(n_clusters=k, random_state=42)\n",
    "    kmeans.fit(user_metrics[['session_frequency', 'session_duration', 'total_traffic']])\n",
    "    inertia.append(kmeans.inertia_)"
   ]
  },
  {
   "cell_type": "code",
   "execution_count": 68,
   "metadata": {},
   "outputs": [
    {
     "data": {
      "image/png": "[encoded data removed]",
      "text/plain": [
       "<Figure size 1000x600 with 1 Axes>"
      ]
     },
     "metadata": {},
     "output_type": "display_data"
    }
   ],
   "source": [
    "# Plot inertia to find optimal k\n",
    "plt.figure(figsize=(10,6))\n",
    "plt.plot(k_values, inertia, marker='o')\n",
    "plt.title('Elbow Method for Optimal K')\n",
    "plt.xlabel('Number of Clusters (k)')\n",
    "plt.ylabel('Inertia')\n",
    "plt.show()"
   ]
  },
  {
   "cell_type": "markdown",
   "metadata": {},
   "source": [
    "# Explanation of Steps:\n",
    "- Aggregate metrics per customer: The data is grouped by MSISDN (customer ID), and for each customer, the session frequency, total session duration, and total traffic are calculated. We also report the top 10 customers for each metric.\n",
    "\n",
    "- Normalize and Cluster: The engagement metrics are normalized, and k-means clustering is performed with k=3. Each customer is assigned to one of the 3 engagement clusters.\n",
    "\n",
    "- Cluster Summary and Visualization: The min, max, average, and total values for each metric are computed for each cluster. These are visualized using bar plots to show the average engagement metrics per cluster.\n",
    "\n",
    "- Aggregate per Application: The total traffic per application is computed, and the top 10 most engaged users for each application are listed.\n",
    "\n",
    "- Top 3 Applications: The total traffic per application is computed, and the top 3 most used applications are visualized.\n",
    "\n",
    "- Optimal K (Elbow Method): The elbow method is used to determine the optimal number of clusters (k) based on the inertia values for different k values. The plot helps visualize the \"elbow\" point, which is the best value for k.\n",
    "\n",
    "# Interpretations:\n",
    "- Top Customers: Insights into which customers are driving the most engagement, helping the business focus on these high-value users.\n",
    "- K-Means Clustering: Helps segment users into different engagement levels, allowing for tailored resource allocation.\n",
    "- Application Insights: Identifying the most engaged users and top apps provides actionable insights for technical teams to optimize app performance."
   ]
  }
 ],
 "metadata": {
  "kernelspec": {
   "display_name": "venv",
   "language": "python",
   "name": "python3"
  },
  "language_info": {
   "codemirror_mode": {
    "name": "ipython",
    "version": 3
   },
   "file_extension": ".py",
   "mimetype": "text/x-python",
   "name": "python",
   "nbconvert_exporter": "python",
   "pygments_lexer": "ipython3",
   "version": "3.12.6"
  }
 },
 "nbformat": 4,
 "nbformat_minor": 2
}
