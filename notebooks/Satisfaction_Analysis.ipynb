{
 "cells": [
  {
   "cell_type": "code",
   "execution_count": 24,
   "metadata": {},
   "outputs": [],
   "source": [
    "import pandas as pd\n",
    "import numpy as np\n",
    "from sklearn.cluster import KMeans\n",
    "from sklearn.metrics import pairwise_distances\n",
    "from sklearn.metrics.pairwise import euclidean_distances\n",
    "import matplotlib.pyplot as plt\n",
    "import seaborn as sns\n",
    "# from notebooks.User_Engagement_Analysis.ipynb import user_metrics\n"
   ]
  },
  {
   "cell_type": "code",
   "execution_count": 25,
   "metadata": {},
   "outputs": [],
   "source": [
    "# Load dataset\n",
    "df = pd.read_csv(r'..\\data\\Week1_challenge_data_source(CSV).csv')\n"
   ]
  },
  {
   "cell_type": "markdown",
   "metadata": {},
   "source": [
    "# Assign Engagement and Experience Scores\n",
    "We will compute the engagement score and experience score using the Euclidean distance between each user and the less engaged/worst experience cluster (from the k-means clustering results):"
   ]
  },
  {
   "cell_type": "code",
   "execution_count": 26,
   "metadata": {},
   "outputs": [
    {
     "name": "stdout",
     "output_type": "stream",
     "text": [
      "Handset Type\n",
      "A-Link Telecom I. Cubot A5                                                             11755.000000\n",
      "A-Link Telecom I. Cubot Note Plus                                                       3349.500000\n",
      "A-Link Telecom I. Cubot Note S                                                          4468.500000\n",
      "A-Link Telecom I. Cubot Nova                                                           28108.500000\n",
      "A-Link Telecom I. Cubot Power                                                          34734.000000\n",
      "                                                                                           ...     \n",
      "Zte Zte Blade C2 Smartphone Android By Sfr Startrail 4 Zte Blade Flex T809 Zte T809       29.000000\n",
      "Zyxel Communicat. Lte7460                                                              30978.000000\n",
      "Zyxel Communicat. Sbg3600                                                              48675.500000\n",
      "Zyxel Communicat. Zyxel Wah7706                                                         1086.500000\n",
      "undefined                                                                               5030.306721\n",
      "Name: Avg_Throughput, Length: 1396, dtype: float64\n",
      "Handset Type\n",
      "A-Link Telecom I. Cubot A5                                                                      NaN\n",
      "A-Link Telecom I. Cubot Note Plus                                                      3.081065e+05\n",
      "A-Link Telecom I. Cubot Note S                                                         2.070587e+07\n",
      "A-Link Telecom I. Cubot Nova                                                           6.858500e+04\n",
      "A-Link Telecom I. Cubot Power                                                          4.020500e+03\n",
      "                                                                                           ...     \n",
      "Zte Zte Blade C2 Smartphone Android By Sfr Startrail 4 Zte Blade Flex T809 Zte T809             NaN\n",
      "Zyxel Communicat. Lte7460                                                              2.063827e+07\n",
      "Zyxel Communicat. Sbg3600                                                              2.674347e+07\n",
      "Zyxel Communicat. Zyxel Wah7706                                                                 NaN\n",
      "undefined                                                                              2.020937e+06\n",
      "Name: Avg_TCP_Retrans, Length: 1396, dtype: float64\n"
     ]
    }
   ],
   "source": [
    "# Compute the average throughput (Download + Upload)\n",
    "df['Avg_Throughput'] = (df['Avg Bearer TP DL (kbps)'] + df['Avg Bearer TP UL (kbps)']) / 2\n",
    "\n",
    "# Compute the average TCP retransmission (Download + Upload)\n",
    "df['Avg_TCP_Retrans'] = (df['TCP DL Retrans. Vol (Bytes)'] + df['TCP UL Retrans. Vol (Bytes)']) / 2\n",
    "\n",
    "# Grouping by 'Handset Type' to analyze average throughput and TCP retransmission\n",
    "throughput_by_handset = df.groupby('Handset Type')['Avg_Throughput'].mean()\n",
    "tcp_retrans_by_handset = df.groupby('Handset Type')['Avg_TCP_Retrans'].mean()\n",
    "\n",
    "# Display results\n",
    "print(throughput_by_handset)\n",
    "print(tcp_retrans_by_handset)"
   ]
  },
  {
   "cell_type": "code",
   "execution_count": 27,
   "metadata": {},
   "outputs": [
    {
     "name": "stdout",
     "output_type": "stream",
     "text": [
      "Top 10 Handset Types by Throughput:\n",
      "Handset Type\n",
      "Huawei B715S-23C               54497.115385\n",
      "New-Bund Technol. Mix 2        52605.500000\n",
      "Lg G6+                         50067.500000\n",
      "Zyxel Communicat. Sbg3600      48675.500000\n",
      "Huawei Y9 2019                 45869.500000\n",
      "Xiaomi Communica. M1902F1G     42806.833333\n",
      "Spa Condor Elect. Allure M2    42155.750000\n",
      "Ovvi-Cellphone T. Echo         39476.500000\n",
      "Huawei Pele                    39190.500000\n",
      "Spa Condor Elect. Plume L2     38264.500000\n",
      "Name: Avg_Throughput, dtype: float64\n",
      "Top 10 Handset Types by TCP Retransmission:\n",
      "Handset Type\n",
      "Apple iPad Pro (A1652)                       3.507656e+08\n",
      "Huawei Bln-Al10                              1.645873e+08\n",
      "Asustek Asus Zenfone Selfie Zd551Kl          1.608292e+08\n",
      "Dynamic Tech Hol. D-Mobile I3 I5 I7 I8 I9    1.341563e+08\n",
      "Samsung Galaxy Tab S3 (Sm-T825)              1.266421e+08\n",
      "Huawei E5776S-32                             1.175107e+08\n",
      "Samsung Galaxy J5                            8.481032e+07\n",
      "Samsung Galaxy J8 2018                       5.787917e+07\n",
      "Huawei Y6 2017 Huawei Nova Young             4.972580e+07\n",
      "Huawei E5573                                 3.826279e+07\n",
      "Name: Avg_TCP_Retrans, dtype: float64\n"
     ]
    }
   ],
   "source": [
    "# Top 10 Handset Types by Average Throughput\n",
    "top_10_throughput = throughput_by_handset.nlargest(10)\n",
    "\n",
    "# Top 10 Handset Types by Average TCP Retransmission\n",
    "top_10_tcp_retrans = tcp_retrans_by_handset.nlargest(10)\n",
    "\n",
    "# Display top handsets\n",
    "print(\"Top 10 Handset Types by Throughput:\")\n",
    "print(top_10_throughput)\n",
    "\n",
    "print(\"Top 10 Handset Types by TCP Retransmission:\")\n",
    "print(top_10_tcp_retrans)"
   ]
  },
  {
   "cell_type": "code",
   "execution_count": 28,
   "metadata": {},
   "outputs": [
    {
     "name": "stderr",
     "output_type": "stream",
     "text": [
      "C:\\Users\\Hello\\AppData\\Local\\Temp\\ipykernel_14696\\2218360153.py:2: FutureWarning: A value is trying to be set on a copy of a DataFrame or Series through chained assignment using an inplace method.\n",
      "The behavior will change in pandas 3.0. This inplace method will never work because the intermediate object on which we are setting values always behaves as a copy.\n",
      "\n",
      "For example, when doing 'df[col].method(value, inplace=True)', try using 'df.method({col: value}, inplace=True)' or df[col] = df[col].method(value) instead, to perform the operation inplace on the original object.\n",
      "\n",
      "\n",
      "  df['Avg_Throughput'].fillna(df['Avg_Throughput'].mean(), inplace=True)\n",
      "C:\\Users\\Hello\\AppData\\Local\\Temp\\ipykernel_14696\\2218360153.py:3: FutureWarning: A value is trying to be set on a copy of a DataFrame or Series through chained assignment using an inplace method.\n",
      "The behavior will change in pandas 3.0. This inplace method will never work because the intermediate object on which we are setting values always behaves as a copy.\n",
      "\n",
      "For example, when doing 'df[col].method(value, inplace=True)', try using 'df.method({col: value}, inplace=True)' or df[col] = df[col].method(value) instead, to perform the operation inplace on the original object.\n",
      "\n",
      "\n",
      "  df['Avg_TCP_Retrans'].fillna(df['Avg_TCP_Retrans'].mean(), inplace=True)\n"
     ]
    }
   ],
   "source": [
    "# Option 1: Fill missing values with the column mean or median (or another suitable value)\n",
    "df['Avg_Throughput'].fillna(df['Avg_Throughput'].mean(), inplace=True)\n",
    "df['Avg_TCP_Retrans'].fillna(df['Avg_TCP_Retrans'].mean(), inplace=True)"
   ]
  },
  {
   "cell_type": "code",
   "execution_count": 29,
   "metadata": {},
   "outputs": [],
   "source": [
    "# Select relevant columns (throughput and retransmission) for clustering\n",
    "X = df[['Avg_Throughput', 'Avg_TCP_Retrans']].values"
   ]
  },
  {
   "cell_type": "code",
   "execution_count": 30,
   "metadata": {},
   "outputs": [],
   "source": [
    "# Apply k-means clustering (k=2)\n",
    "kmeans = KMeans(n_clusters=2, random_state=0).fit(X)\n",
    "\n",
    "# Add the cluster labels to the dataframe\n",
    "df['Cluster'] = kmeans.labels_"
   ]
  },
  {
   "cell_type": "code",
   "execution_count": 31,
   "metadata": {},
   "outputs": [],
   "source": [
    "# Get cluster centers (these represent the centroid of each cluster)\n",
    "cluster_centers = kmeans.cluster_centers_\n",
    "\n",
    "# Identify the cluster with lower throughput and retransmission (less engaged cluster)\n",
    "low_throughput_value = cluster_centers[:, 0].min()  # Low throughput value\n",
    "low_tcp_retrans_value = cluster_centers[:, 1].min()  # Low TCP retransmission value\n",
    "\n",
    "# Identify the cluster with higher throughput and retransmission (highly engaged cluster)\n",
    "high_throughput_value = cluster_centers[:, 0].max()  # high throughput value\n",
    "high_tcp_retrans_value = cluster_centers[:, 1].max()  # high TCP retransmission value"
   ]
  },
  {
   "cell_type": "code",
   "execution_count": 32,
   "metadata": {},
   "outputs": [
    {
     "name": "stdout",
     "output_type": "stream",
     "text": [
      "Low Throughput Value: 7487.679343821968\n",
      "Low TCP Retrans Value: 10706636.277198281\n",
      "High Throughput Value: 35908.95019920318\n",
      "High TCP Retrans Value: 1296679486.8605595\n"
     ]
    }
   ],
   "source": [
    "print(f\"Low Throughput Value: {low_throughput_value}\")\n",
    "print(f\"Low TCP Retrans Value: {low_tcp_retrans_value}\")\n",
    "\n",
    "print(f\"High Throughput Value: {high_throughput_value}\")\n",
    "print(f\"High TCP Retrans Value: {high_tcp_retrans_value}\")"
   ]
  },
  {
   "cell_type": "markdown",
   "metadata": {},
   "source": [
    "# Assign Engagement and Experience Scores Using the Identified Cluster Centers\n",
    "Once you have the low_throughput_value and low_tcp_retrans_value, use them to calculate the engagement score as the Euclidean distance from these low values."
   ]
  },
  {
   "cell_type": "code",
   "execution_count": 33,
   "metadata": {},
   "outputs": [
    {
     "name": "stdout",
     "output_type": "stream",
     "text": [
      "      Bearer Id  Engagement_Score  Experience_Score\n",
      "0  1.311448e+19      2.151860e+06      1.296743e+09\n",
      "1  1.311448e+19      2.151860e+06      1.296743e+09\n",
      "2  1.311448e+19      2.151860e+06      1.296743e+09\n",
      "3  1.311448e+19      2.151860e+06      1.296743e+09\n",
      "4  1.311448e+19      2.151860e+06      1.296743e+09\n"
     ]
    }
   ],
   "source": [
    "from scipy.spatial.distance import euclidean\n",
    "\n",
    "# Example cluster center values (replace with your actual cluster centers)\n",
    "less_engaged_cluster_center = [low_throughput_value, low_tcp_retrans_value]\n",
    "worst_experience_cluster_center = [high_tcp_retrans_value, low_throughput_value]\n",
    "\n",
    "# Calculate engagement score\n",
    "df['Engagement_Score'] = df.apply(lambda row: euclidean(\n",
    "    [row['Avg_Throughput'], row['Avg_TCP_Retrans']], less_engaged_cluster_center), axis=1)\n",
    "\n",
    "# Calculate experience score\n",
    "df['Experience_Score'] = df.apply(lambda row: euclidean(\n",
    "    [row['Avg_Throughput'], row['Avg_TCP_Retrans']], worst_experience_cluster_center), axis=1)\n",
    "\n",
    "# Display the engagement and experience scores\n",
    "print(df[['Bearer Id','Engagement_Score', 'Experience_Score']].head())"
   ]
  },
  {
   "cell_type": "code",
   "execution_count": 36,
   "metadata": {},
   "outputs": [],
   "source": [
    "# Get cluster centers (representing the centroids of each cluster)\n",
    "cluster_centers = kmeans.cluster_centers_"
   ]
  },
  {
   "cell_type": "code",
   "execution_count": 37,
   "metadata": {},
   "outputs": [],
   "source": [
    "# Assume worst experience is characterized by low throughput and high TCP retransmission\n",
    "worst_experience_cluster = np.argmax(cluster_centers[:, 1])"
   ]
  },
  {
   "cell_type": "code",
   "execution_count": 38,
   "metadata": {},
   "outputs": [],
   "source": [
    "# Calculate Euclidean distance (experience score) between each user and the worst experience cluster\n",
    "worst_cluster_center = cluster_centers[worst_experience_cluster]\n",
    "df['Experience_Score'] = np.linalg.norm(X - worst_cluster_center, axis=1)"
   ]
  },
  {
   "cell_type": "code",
   "execution_count": 41,
   "metadata": {},
   "outputs": [
    {
     "data": {
      "text/plain": [
       "array([3.59089502e+04, 1.29667949e+09])"
      ]
     },
     "execution_count": 41,
     "metadata": {},
     "output_type": "execute_result"
    }
   ],
   "source": [
    "worst_cluster_center"
   ]
  }
 ],
 "metadata": {
  "kernelspec": {
   "display_name": "venv",
   "language": "python",
   "name": "python3"
  },
  "language_info": {
   "codemirror_mode": {
    "name": "ipython",
    "version": 3
   },
   "file_extension": ".py",
   "mimetype": "text/x-python",
   "name": "python",
   "nbconvert_exporter": "python",
   "pygments_lexer": "ipython3",
   "version": "3.12.6"
  }
 },
 "nbformat": 4,
 "nbformat_minor": 2
}
