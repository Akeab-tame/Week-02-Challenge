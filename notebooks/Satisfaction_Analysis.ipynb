{
 "cells": [
  {
   "cell_type": "code",
   "execution_count": 24,
   "metadata": {},
   "outputs": [],
   "source": [
    "import pandas as pd\n",
    "import numpy as np\n",
    "from sklearn.cluster import KMeans\n",
    "from sklearn.metrics import pairwise_distances\n",
    "from sklearn.metrics.pairwise import euclidean_distances\n",
    "import matplotlib.pyplot as plt\n",
    "import seaborn as sns\n",
    "# from notebooks.User_Engagement_Analysis.ipynb import user_metrics\n"
   ]
  },
  {
   "cell_type": "code",
   "execution_count": 25,
   "metadata": {},
   "outputs": [],
   "source": [
    "# Load dataset\n",
    "df = pd.read_csv(r'..\\data\\Week1_challenge_data_source(CSV).csv')\n"
   ]
  },
  {
   "cell_type": "markdown",
   "metadata": {},
   "source": [
    "# Assign Engagement and Experience Scores\n",
    "We will compute the engagement score and experience score using the Euclidean distance between each user and the less engaged/worst experience cluster (from the k-means clustering results):"
   ]
  },
  {
   "cell_type": "code",
   "execution_count": 26,
   "metadata": {},
   "outputs": [
    {
     "name": "stdout",
     "output_type": "stream",
     "text": [
      "Handset Type\n",
      "A-Link Telecom I. Cubot A5                                                             11755.000000\n",
      "A-Link Telecom I. Cubot Note Plus                                                       3349.500000\n",
      "A-Link Telecom I. Cubot Note S                                                          4468.500000\n",
      "A-Link Telecom I. Cubot Nova                                                           28108.500000\n",
      "A-Link Telecom I. Cubot Power                                                          34734.000000\n",
      "                                                                                           ...     \n",
      "Zte Zte Blade C2 Smartphone Android By Sfr Startrail 4 Zte Blade Flex T809 Zte T809       29.000000\n",
      "Zyxel Communicat. Lte7460                                                              30978.000000\n",
      "Zyxel Communicat. Sbg3600                                                              48675.500000\n",
      "Zyxel Communicat. Zyxel Wah7706                                                         1086.500000\n",
      "undefined                                                                               5030.306721\n",
      "Name: Avg_Throughput, Length: 1396, dtype: float64\n",
      "Handset Type\n",
      "A-Link Telecom I. Cubot A5                                                                      NaN\n",
      "A-Link Telecom I. Cubot Note Plus                                                      3.081065e+05\n",
      "A-Link Telecom I. Cubot Note S                                                         2.070587e+07\n",
      "A-Link Telecom I. Cubot Nova                                                           6.858500e+04\n",
      "A-Link Telecom I. Cubot Power                                                          4.020500e+03\n",
      "                                                                                           ...     \n",
      "Zte Zte Blade C2 Smartphone Android By Sfr Startrail 4 Zte Blade Flex T809 Zte T809             NaN\n",
      "Zyxel Communicat. Lte7460                                                              2.063827e+07\n",
      "Zyxel Communicat. Sbg3600                                                              2.674347e+07\n",
      "Zyxel Communicat. Zyxel Wah7706                                                                 NaN\n",
      "undefined                                                                              2.020937e+06\n",
      "Name: Avg_TCP_Retrans, Length: 1396, dtype: float64\n"
     ]
    }
   ],
   "source": [
    "# Compute the average throughput (Download + Upload)\n",
    "df['Avg_Throughput'] = (df['Avg Bearer TP DL (kbps)'] + df['Avg Bearer TP UL (kbps)']) / 2\n",
    "\n",
    "# Compute the average TCP retransmission (Download + Upload)\n",
    "df['Avg_TCP_Retrans'] = (df['TCP DL Retrans. Vol (Bytes)'] + df['TCP UL Retrans. Vol (Bytes)']) / 2\n",
    "\n",
    "# Grouping by 'Handset Type' to analyze average throughput and TCP retransmission\n",
    "throughput_by_handset = df.groupby('Handset Type')['Avg_Throughput'].mean()\n",
    "tcp_retrans_by_handset = df.groupby('Handset Type')['Avg_TCP_Retrans'].mean()\n",
    "\n",
    "# Display results\n",
    "print(throughput_by_handset)\n",
    "print(tcp_retrans_by_handset)"
   ]
  },
  {
   "cell_type": "code",
   "execution_count": 27,
   "metadata": {},
   "outputs": [
    {
     "name": "stdout",
     "output_type": "stream",
     "text": [
      "Top 10 Handset Types by Throughput:\n",
      "Handset Type\n",
      "Huawei B715S-23C               54497.115385\n",
      "New-Bund Technol. Mix 2        52605.500000\n",
      "Lg G6+                         50067.500000\n",
      "Zyxel Communicat. Sbg3600      48675.500000\n",
      "Huawei Y9 2019                 45869.500000\n",
      "Xiaomi Communica. M1902F1G     42806.833333\n",
      "Spa Condor Elect. Allure M2    42155.750000\n",
      "Ovvi-Cellphone T. Echo         39476.500000\n",
      "Huawei Pele                    39190.500000\n",
      "Spa Condor Elect. Plume L2     38264.500000\n",
      "Name: Avg_Throughput, dtype: float64\n",
      "Top 10 Handset Types by TCP Retransmission:\n",
      "Handset Type\n",
      "Apple iPad Pro (A1652)                       3.507656e+08\n",
      "Huawei Bln-Al10                              1.645873e+08\n",
      "Asustek Asus Zenfone Selfie Zd551Kl          1.608292e+08\n",
      "Dynamic Tech Hol. D-Mobile I3 I5 I7 I8 I9    1.341563e+08\n",
      "Samsung Galaxy Tab S3 (Sm-T825)              1.266421e+08\n",
      "Huawei E5776S-32                             1.175107e+08\n",
      "Samsung Galaxy J5                            8.481032e+07\n",
      "Samsung Galaxy J8 2018                       5.787917e+07\n",
      "Huawei Y6 2017 Huawei Nova Young             4.972580e+07\n",
      "Huawei E5573                                 3.826279e+07\n",
      "Name: Avg_TCP_Retrans, dtype: float64\n"
     ]
    }
   ],
   "source": [
    "# Top 10 Handset Types by Average Throughput\n",
    "top_10_throughput = throughput_by_handset.nlargest(10)\n",
    "\n",
    "# Top 10 Handset Types by Average TCP Retransmission\n",
    "top_10_tcp_retrans = tcp_retrans_by_handset.nlargest(10)\n",
    "\n",
    "# Display top handsets\n",
    "print(\"Top 10 Handset Types by Throughput:\")\n",
    "print(top_10_throughput)\n",
    "\n",
    "print(\"Top 10 Handset Types by TCP Retransmission:\")\n",
    "print(top_10_tcp_retrans)"
   ]
  },
  {
   "cell_type": "code",
   "execution_count": 28,
   "metadata": {},
   "outputs": [
    {
     "name": "stderr",
     "output_type": "stream",
     "text": [
      "C:\\Users\\Hello\\AppData\\Local\\Temp\\ipykernel_14696\\2218360153.py:2: FutureWarning: A value is trying to be set on a copy of a DataFrame or Series through chained assignment using an inplace method.\n",
      "The behavior will change in pandas 3.0. This inplace method will never work because the intermediate object on which we are setting values always behaves as a copy.\n",
      "\n",
      "For example, when doing 'df[col].method(value, inplace=True)', try using 'df.method({col: value}, inplace=True)' or df[col] = df[col].method(value) instead, to perform the operation inplace on the original object.\n",
      "\n",
      "\n",
      "  df['Avg_Throughput'].fillna(df['Avg_Throughput'].mean(), inplace=True)\n",
      "C:\\Users\\Hello\\AppData\\Local\\Temp\\ipykernel_14696\\2218360153.py:3: FutureWarning: A value is trying to be set on a copy of a DataFrame or Series through chained assignment using an inplace method.\n",
      "The behavior will change in pandas 3.0. This inplace method will never work because the intermediate object on which we are setting values always behaves as a copy.\n",
      "\n",
      "For example, when doing 'df[col].method(value, inplace=True)', try using 'df.method({col: value}, inplace=True)' or df[col] = df[col].method(value) instead, to perform the operation inplace on the original object.\n",
      "\n",
      "\n",
      "  df['Avg_TCP_Retrans'].fillna(df['Avg_TCP_Retrans'].mean(), inplace=True)\n"
     ]
    }
   ],
   "source": [
    "# Option 1: Fill missing values with the column mean or median (or another suitable value)\n",
    "df['Avg_Throughput'].fillna(df['Avg_Throughput'].mean(), inplace=True)\n",
    "df['Avg_TCP_Retrans'].fillna(df['Avg_TCP_Retrans'].mean(), inplace=True)"
   ]
  },
  {
   "cell_type": "code",
   "execution_count": 29,
   "metadata": {},
   "outputs": [],
   "source": [
    "# Select relevant columns (throughput and retransmission) for clustering\n",
    "X = df[['Avg_Throughput', 'Avg_TCP_Retrans']].values"
   ]
  },
  {
   "cell_type": "code",
   "execution_count": 30,
   "metadata": {},
   "outputs": [],
   "source": [
    "# Apply k-means clustering (k=2)\n",
    "kmeans = KMeans(n_clusters=2, random_state=0).fit(X)\n",
    "\n",
    "# Add the cluster labels to the dataframe\n",
    "df['Cluster'] = kmeans.labels_"
   ]
  },
  {
   "cell_type": "code",
   "execution_count": 31,
   "metadata": {},
   "outputs": [],
   "source": [
    "# Get cluster centers (these represent the centroid of each cluster)\n",
    "cluster_centers = kmeans.cluster_centers_\n",
    "\n",
    "# Identify the cluster with lower throughput and retransmission (less engaged cluster)\n",
    "low_throughput_value = cluster_centers[:, 0].min()  # Low throughput value\n",
    "low_tcp_retrans_value = cluster_centers[:, 1].min()  # Low TCP retransmission value\n",
    "\n",
    "# Identify the cluster with higher throughput and retransmission (highly engaged cluster)\n",
    "high_throughput_value = cluster_centers[:, 0].max()  # high throughput value\n",
    "high_tcp_retrans_value = cluster_centers[:, 1].max()  # high TCP retransmission value"
   ]
  },
  {
   "cell_type": "code",
   "execution_count": 32,
   "metadata": {},
   "outputs": [
    {
     "name": "stdout",
     "output_type": "stream",
     "text": [
      "Low Throughput Value: 7487.679343821968\n",
      "Low TCP Retrans Value: 10706636.277198281\n",
      "High Throughput Value: 35908.95019920318\n",
      "High TCP Retrans Value: 1296679486.8605595\n"
     ]
    }
   ],
   "source": [
    "print(f\"Low Throughput Value: {low_throughput_value}\")\n",
    "print(f\"Low TCP Retrans Value: {low_tcp_retrans_value}\")\n",
    "\n",
    "print(f\"High Throughput Value: {high_throughput_value}\")\n",
    "print(f\"High TCP Retrans Value: {high_tcp_retrans_value}\")"
   ]
  },
  {
   "cell_type": "markdown",
   "metadata": {},
   "source": [
    "# Assign Engagement and Experience Scores Using the Identified Cluster Centers\n",
    "Once you have the low_throughput_value and low_tcp_retrans_value, use them to calculate the engagement score as the Euclidean distance from these low values."
   ]
  },
  {
   "cell_type": "code",
   "execution_count": 33,
   "metadata": {},
   "outputs": [
    {
     "name": "stdout",
     "output_type": "stream",
     "text": [
      "      Bearer Id  Engagement_Score  Experience_Score\n",
      "0  1.311448e+19      2.151860e+06      1.296743e+09\n",
      "1  1.311448e+19      2.151860e+06      1.296743e+09\n",
      "2  1.311448e+19      2.151860e+06      1.296743e+09\n",
      "3  1.311448e+19      2.151860e+06      1.296743e+09\n",
      "4  1.311448e+19      2.151860e+06      1.296743e+09\n"
     ]
    }
   ],
   "source": [
    "from scipy.spatial.distance import euclidean\n",
    "\n",
    "# Example cluster center values (replace with your actual cluster centers)\n",
    "less_engaged_cluster_center = [low_throughput_value, low_tcp_retrans_value]\n",
    "worst_experience_cluster_center = [high_tcp_retrans_value, low_throughput_value]\n",
    "\n",
    "# Calculate engagement score\n",
    "df['Engagement_Score'] = df.apply(lambda row: euclidean(\n",
    "    [row['Avg_Throughput'], row['Avg_TCP_Retrans']], less_engaged_cluster_center), axis=1)\n",
    "\n",
    "# Calculate experience score\n",
    "df['Experience_Score'] = df.apply(lambda row: euclidean(\n",
    "    [row['Avg_Throughput'], row['Avg_TCP_Retrans']], worst_experience_cluster_center), axis=1)\n",
    "\n",
    "# Display the engagement and experience scores\n",
    "print(df[['Bearer Id','Engagement_Score', 'Experience_Score']].head())"
   ]
  },
  {
   "cell_type": "code",
   "execution_count": 36,
   "metadata": {},
   "outputs": [],
   "source": [
    "# Get cluster centers (representing the centroids of each cluster)\n",
    "cluster_centers = kmeans.cluster_centers_"
   ]
  },
  {
   "cell_type": "code",
   "execution_count": 37,
   "metadata": {},
   "outputs": [],
   "source": [
    "# Assume worst experience is characterized by low throughput and high TCP retransmission\n",
    "worst_experience_cluster = np.argmax(cluster_centers[:, 1])"
   ]
  },
  {
   "cell_type": "code",
   "execution_count": 38,
   "metadata": {},
   "outputs": [],
   "source": [
    "# Calculate Euclidean distance (experience score) between each user and the worst experience cluster\n",
    "worst_cluster_center = cluster_centers[worst_experience_cluster]\n",
    "df['Experience_Score'] = np.linalg.norm(X - worst_cluster_center, axis=1)"
   ]
  },
  {
   "cell_type": "code",
   "execution_count": 41,
   "metadata": {},
   "outputs": [
    {
     "data": {
      "text/plain": [
       "array([3.59089502e+04, 1.29667949e+09])"
      ]
     },
     "execution_count": 41,
     "metadata": {},
     "output_type": "execute_result"
    }
   ],
   "source": [
    "worst_cluster_center"
   ]
  },
  {
   "cell_type": "markdown",
   "metadata": {},
   "source": [
    "# Consider the average of both engagement & experience scores as  the satisfaction score & report the top 10 satisfied customer"
   ]
  },
  {
   "cell_type": "code",
   "execution_count": 43,
   "metadata": {},
   "outputs": [
    {
     "name": "stdout",
     "output_type": "stream",
     "text": [
      "           Bearer Id  Satisfaction_Score\n",
      "34636   1.304243e+19        1.518365e+09\n",
      "140797  7.277826e+18        1.497046e+09\n",
      "77950   7.277826e+18        1.493523e+09\n",
      "135677  1.304243e+19        1.492039e+09\n",
      "3741    7.277826e+18        1.490367e+09\n",
      "119667  1.304243e+19        1.484053e+09\n",
      "39608   7.277826e+18        1.480631e+09\n",
      "59011   7.277826e+18        1.477115e+09\n",
      "76971   1.304243e+19        1.476394e+09\n",
      "41182   1.304243e+19        1.473637e+09\n"
     ]
    }
   ],
   "source": [
    "# Calculate satisfaction score as the average of engagement and experience scores\n",
    "df['Satisfaction_Score'] = (df['Engagement_Score'] + df['Experience_Score']) / 2\n",
    "\n",
    "# Top 10 satisfied users\n",
    "top_10_satisfied_users = df.nlargest(10, 'Satisfaction_Score')\n",
    "print(top_10_satisfied_users[['Bearer Id', 'Satisfaction_Score']])"
   ]
  },
  {
   "cell_type": "markdown",
   "metadata": {},
   "source": [
    "# Build a Regression Model to Predict Satisfaction Score\n",
    "A basic linear regression model can be used to predict the satisfaction score:"
   ]
  },
  {
   "cell_type": "code",
   "execution_count": 46,
   "metadata": {},
   "outputs": [],
   "source": [
    "from sklearn.model_selection import train_test_split\n",
    "from sklearn.linear_model import LinearRegression\n",
    "\n",
    "#  Predict Satisfaction Score using a regression model\n",
    "X = df[['Engagement_Score', 'Experience_Score']]  # predictors\n",
    "y = df['Satisfaction_Score']  # target"
   ]
  },
  {
   "cell_type": "code",
   "execution_count": 47,
   "metadata": {},
   "outputs": [
    {
     "data": {
      "text/html": [
       "<style>#sk-container-id-1 {\n",
       "  /* Definition of color scheme common for light and dark mode */\n",
       "  --sklearn-color-text: black;\n",
       "  --sklearn-color-line: gray;\n",
       "  /* Definition of color scheme for unfitted estimators */\n",
       "  --sklearn-color-unfitted-level-0: #fff5e6;\n",
       "  --sklearn-color-unfitted-level-1: #f6e4d2;\n",
       "  --sklearn-color-unfitted-level-2: #ffe0b3;\n",
       "  --sklearn-color-unfitted-level-3: chocolate;\n",
       "  /* Definition of color scheme for fitted estimators */\n",
       "  --sklearn-color-fitted-level-0: #f0f8ff;\n",
       "  --sklearn-color-fitted-level-1: #d4ebff;\n",
       "  --sklearn-color-fitted-level-2: #b3dbfd;\n",
       "  --sklearn-color-fitted-level-3: cornflowerblue;\n",
       "\n",
       "  /* Specific color for light theme */\n",
       "  --sklearn-color-text-on-default-background: var(--sg-text-color, var(--theme-code-foreground, var(--jp-content-font-color1, black)));\n",
       "  --sklearn-color-background: var(--sg-background-color, var(--theme-background, var(--jp-layout-color0, white)));\n",
       "  --sklearn-color-border-box: var(--sg-text-color, var(--theme-code-foreground, var(--jp-content-font-color1, black)));\n",
       "  --sklearn-color-icon: #696969;\n",
       "\n",
       "  @media (prefers-color-scheme: dark) {\n",
       "    /* Redefinition of color scheme for dark theme */\n",
       "    --sklearn-color-text-on-default-background: var(--sg-text-color, var(--theme-code-foreground, var(--jp-content-font-color1, white)));\n",
       "    --sklearn-color-background: var(--sg-background-color, var(--theme-background, var(--jp-layout-color0, #111)));\n",
       "    --sklearn-color-border-box: var(--sg-text-color, var(--theme-code-foreground, var(--jp-content-font-color1, white)));\n",
       "    --sklearn-color-icon: #878787;\n",
       "  }\n",
       "}\n",
       "\n",
       "#sk-container-id-1 {\n",
       "  color: var(--sklearn-color-text);\n",
       "}\n",
       "\n",
       "#sk-container-id-1 pre {\n",
       "  padding: 0;\n",
       "}\n",
       "\n",
       "#sk-container-id-1 input.sk-hidden--visually {\n",
       "  border: 0;\n",
       "  clip: rect(1px 1px 1px 1px);\n",
       "  clip: rect(1px, 1px, 1px, 1px);\n",
       "  height: 1px;\n",
       "  margin: -1px;\n",
       "  overflow: hidden;\n",
       "  padding: 0;\n",
       "  position: absolute;\n",
       "  width: 1px;\n",
       "}\n",
       "\n",
       "#sk-container-id-1 div.sk-dashed-wrapped {\n",
       "  border: 1px dashed var(--sklearn-color-line);\n",
       "  margin: 0 0.4em 0.5em 0.4em;\n",
       "  box-sizing: border-box;\n",
       "  padding-bottom: 0.4em;\n",
       "  background-color: var(--sklearn-color-background);\n",
       "}\n",
       "\n",
       "#sk-container-id-1 div.sk-container {\n",
       "  /* jupyter's `normalize.less` sets `[hidden] { display: none; }`\n",
       "     but bootstrap.min.css set `[hidden] { display: none !important; }`\n",
       "     so we also need the `!important` here to be able to override the\n",
       "     default hidden behavior on the sphinx rendered scikit-learn.org.\n",
       "     See: https://github.com/scikit-learn/scikit-learn/issues/21755 */\n",
       "  display: inline-block !important;\n",
       "  position: relative;\n",
       "}\n",
       "\n",
       "#sk-container-id-1 div.sk-text-repr-fallback {\n",
       "  display: none;\n",
       "}\n",
       "\n",
       "div.sk-parallel-item,\n",
       "div.sk-serial,\n",
       "div.sk-item {\n",
       "  /* draw centered vertical line to link estimators */\n",
       "  background-image: linear-gradient(var(--sklearn-color-text-on-default-background), var(--sklearn-color-text-on-default-background));\n",
       "  background-size: 2px 100%;\n",
       "  background-repeat: no-repeat;\n",
       "  background-position: center center;\n",
       "}\n",
       "\n",
       "/* Parallel-specific style estimator block */\n",
       "\n",
       "#sk-container-id-1 div.sk-parallel-item::after {\n",
       "  content: \"\";\n",
       "  width: 100%;\n",
       "  border-bottom: 2px solid var(--sklearn-color-text-on-default-background);\n",
       "  flex-grow: 1;\n",
       "}\n",
       "\n",
       "#sk-container-id-1 div.sk-parallel {\n",
       "  display: flex;\n",
       "  align-items: stretch;\n",
       "  justify-content: center;\n",
       "  background-color: var(--sklearn-color-background);\n",
       "  position: relative;\n",
       "}\n",
       "\n",
       "#sk-container-id-1 div.sk-parallel-item {\n",
       "  display: flex;\n",
       "  flex-direction: column;\n",
       "}\n",
       "\n",
       "#sk-container-id-1 div.sk-parallel-item:first-child::after {\n",
       "  align-self: flex-end;\n",
       "  width: 50%;\n",
       "}\n",
       "\n",
       "#sk-container-id-1 div.sk-parallel-item:last-child::after {\n",
       "  align-self: flex-start;\n",
       "  width: 50%;\n",
       "}\n",
       "\n",
       "#sk-container-id-1 div.sk-parallel-item:only-child::after {\n",
       "  width: 0;\n",
       "}\n",
       "\n",
       "/* Serial-specific style estimator block */\n",
       "\n",
       "#sk-container-id-1 div.sk-serial {\n",
       "  display: flex;\n",
       "  flex-direction: column;\n",
       "  align-items: center;\n",
       "  background-color: var(--sklearn-color-background);\n",
       "  padding-right: 1em;\n",
       "  padding-left: 1em;\n",
       "}\n",
       "\n",
       "\n",
       "/* Toggleable style: style used for estimator/Pipeline/ColumnTransformer box that is\n",
       "clickable and can be expanded/collapsed.\n",
       "- Pipeline and ColumnTransformer use this feature and define the default style\n",
       "- Estimators will overwrite some part of the style using the `sk-estimator` class\n",
       "*/\n",
       "\n",
       "/* Pipeline and ColumnTransformer style (default) */\n",
       "\n",
       "#sk-container-id-1 div.sk-toggleable {\n",
       "  /* Default theme specific background. It is overwritten whether we have a\n",
       "  specific estimator or a Pipeline/ColumnTransformer */\n",
       "  background-color: var(--sklearn-color-background);\n",
       "}\n",
       "\n",
       "/* Toggleable label */\n",
       "#sk-container-id-1 label.sk-toggleable__label {\n",
       "  cursor: pointer;\n",
       "  display: block;\n",
       "  width: 100%;\n",
       "  margin-bottom: 0;\n",
       "  padding: 0.5em;\n",
       "  box-sizing: border-box;\n",
       "  text-align: center;\n",
       "}\n",
       "\n",
       "#sk-container-id-1 label.sk-toggleable__label-arrow:before {\n",
       "  /* Arrow on the left of the label */\n",
       "  content: \"▸\";\n",
       "  float: left;\n",
       "  margin-right: 0.25em;\n",
       "  color: var(--sklearn-color-icon);\n",
       "}\n",
       "\n",
       "#sk-container-id-1 label.sk-toggleable__label-arrow:hover:before {\n",
       "  color: var(--sklearn-color-text);\n",
       "}\n",
       "\n",
       "/* Toggleable content - dropdown */\n",
       "\n",
       "#sk-container-id-1 div.sk-toggleable__content {\n",
       "  max-height: 0;\n",
       "  max-width: 0;\n",
       "  overflow: hidden;\n",
       "  text-align: left;\n",
       "  /* unfitted */\n",
       "  background-color: var(--sklearn-color-unfitted-level-0);\n",
       "}\n",
       "\n",
       "#sk-container-id-1 div.sk-toggleable__content.fitted {\n",
       "  /* fitted */\n",
       "  background-color: var(--sklearn-color-fitted-level-0);\n",
       "}\n",
       "\n",
       "#sk-container-id-1 div.sk-toggleable__content pre {\n",
       "  margin: 0.2em;\n",
       "  border-radius: 0.25em;\n",
       "  color: var(--sklearn-color-text);\n",
       "  /* unfitted */\n",
       "  background-color: var(--sklearn-color-unfitted-level-0);\n",
       "}\n",
       "\n",
       "#sk-container-id-1 div.sk-toggleable__content.fitted pre {\n",
       "  /* unfitted */\n",
       "  background-color: var(--sklearn-color-fitted-level-0);\n",
       "}\n",
       "\n",
       "#sk-container-id-1 input.sk-toggleable__control:checked~div.sk-toggleable__content {\n",
       "  /* Expand drop-down */\n",
       "  max-height: 200px;\n",
       "  max-width: 100%;\n",
       "  overflow: auto;\n",
       "}\n",
       "\n",
       "#sk-container-id-1 input.sk-toggleable__control:checked~label.sk-toggleable__label-arrow:before {\n",
       "  content: \"▾\";\n",
       "}\n",
       "\n",
       "/* Pipeline/ColumnTransformer-specific style */\n",
       "\n",
       "#sk-container-id-1 div.sk-label input.sk-toggleable__control:checked~label.sk-toggleable__label {\n",
       "  color: var(--sklearn-color-text);\n",
       "  background-color: var(--sklearn-color-unfitted-level-2);\n",
       "}\n",
       "\n",
       "#sk-container-id-1 div.sk-label.fitted input.sk-toggleable__control:checked~label.sk-toggleable__label {\n",
       "  background-color: var(--sklearn-color-fitted-level-2);\n",
       "}\n",
       "\n",
       "/* Estimator-specific style */\n",
       "\n",
       "/* Colorize estimator box */\n",
       "#sk-container-id-1 div.sk-estimator input.sk-toggleable__control:checked~label.sk-toggleable__label {\n",
       "  /* unfitted */\n",
       "  background-color: var(--sklearn-color-unfitted-level-2);\n",
       "}\n",
       "\n",
       "#sk-container-id-1 div.sk-estimator.fitted input.sk-toggleable__control:checked~label.sk-toggleable__label {\n",
       "  /* fitted */\n",
       "  background-color: var(--sklearn-color-fitted-level-2);\n",
       "}\n",
       "\n",
       "#sk-container-id-1 div.sk-label label.sk-toggleable__label,\n",
       "#sk-container-id-1 div.sk-label label {\n",
       "  /* The background is the default theme color */\n",
       "  color: var(--sklearn-color-text-on-default-background);\n",
       "}\n",
       "\n",
       "/* On hover, darken the color of the background */\n",
       "#sk-container-id-1 div.sk-label:hover label.sk-toggleable__label {\n",
       "  color: var(--sklearn-color-text);\n",
       "  background-color: var(--sklearn-color-unfitted-level-2);\n",
       "}\n",
       "\n",
       "/* Label box, darken color on hover, fitted */\n",
       "#sk-container-id-1 div.sk-label.fitted:hover label.sk-toggleable__label.fitted {\n",
       "  color: var(--sklearn-color-text);\n",
       "  background-color: var(--sklearn-color-fitted-level-2);\n",
       "}\n",
       "\n",
       "/* Estimator label */\n",
       "\n",
       "#sk-container-id-1 div.sk-label label {\n",
       "  font-family: monospace;\n",
       "  font-weight: bold;\n",
       "  display: inline-block;\n",
       "  line-height: 1.2em;\n",
       "}\n",
       "\n",
       "#sk-container-id-1 div.sk-label-container {\n",
       "  text-align: center;\n",
       "}\n",
       "\n",
       "/* Estimator-specific */\n",
       "#sk-container-id-1 div.sk-estimator {\n",
       "  font-family: monospace;\n",
       "  border: 1px dotted var(--sklearn-color-border-box);\n",
       "  border-radius: 0.25em;\n",
       "  box-sizing: border-box;\n",
       "  margin-bottom: 0.5em;\n",
       "  /* unfitted */\n",
       "  background-color: var(--sklearn-color-unfitted-level-0);\n",
       "}\n",
       "\n",
       "#sk-container-id-1 div.sk-estimator.fitted {\n",
       "  /* fitted */\n",
       "  background-color: var(--sklearn-color-fitted-level-0);\n",
       "}\n",
       "\n",
       "/* on hover */\n",
       "#sk-container-id-1 div.sk-estimator:hover {\n",
       "  /* unfitted */\n",
       "  background-color: var(--sklearn-color-unfitted-level-2);\n",
       "}\n",
       "\n",
       "#sk-container-id-1 div.sk-estimator.fitted:hover {\n",
       "  /* fitted */\n",
       "  background-color: var(--sklearn-color-fitted-level-2);\n",
       "}\n",
       "\n",
       "/* Specification for estimator info (e.g. \"i\" and \"?\") */\n",
       "\n",
       "/* Common style for \"i\" and \"?\" */\n",
       "\n",
       ".sk-estimator-doc-link,\n",
       "a:link.sk-estimator-doc-link,\n",
       "a:visited.sk-estimator-doc-link {\n",
       "  float: right;\n",
       "  font-size: smaller;\n",
       "  line-height: 1em;\n",
       "  font-family: monospace;\n",
       "  background-color: var(--sklearn-color-background);\n",
       "  border-radius: 1em;\n",
       "  height: 1em;\n",
       "  width: 1em;\n",
       "  text-decoration: none !important;\n",
       "  margin-left: 1ex;\n",
       "  /* unfitted */\n",
       "  border: var(--sklearn-color-unfitted-level-1) 1pt solid;\n",
       "  color: var(--sklearn-color-unfitted-level-1);\n",
       "}\n",
       "\n",
       ".sk-estimator-doc-link.fitted,\n",
       "a:link.sk-estimator-doc-link.fitted,\n",
       "a:visited.sk-estimator-doc-link.fitted {\n",
       "  /* fitted */\n",
       "  border: var(--sklearn-color-fitted-level-1) 1pt solid;\n",
       "  color: var(--sklearn-color-fitted-level-1);\n",
       "}\n",
       "\n",
       "/* On hover */\n",
       "div.sk-estimator:hover .sk-estimator-doc-link:hover,\n",
       ".sk-estimator-doc-link:hover,\n",
       "div.sk-label-container:hover .sk-estimator-doc-link:hover,\n",
       ".sk-estimator-doc-link:hover {\n",
       "  /* unfitted */\n",
       "  background-color: var(--sklearn-color-unfitted-level-3);\n",
       "  color: var(--sklearn-color-background);\n",
       "  text-decoration: none;\n",
       "}\n",
       "\n",
       "div.sk-estimator.fitted:hover .sk-estimator-doc-link.fitted:hover,\n",
       ".sk-estimator-doc-link.fitted:hover,\n",
       "div.sk-label-container:hover .sk-estimator-doc-link.fitted:hover,\n",
       ".sk-estimator-doc-link.fitted:hover {\n",
       "  /* fitted */\n",
       "  background-color: var(--sklearn-color-fitted-level-3);\n",
       "  color: var(--sklearn-color-background);\n",
       "  text-decoration: none;\n",
       "}\n",
       "\n",
       "/* Span, style for the box shown on hovering the info icon */\n",
       ".sk-estimator-doc-link span {\n",
       "  display: none;\n",
       "  z-index: 9999;\n",
       "  position: relative;\n",
       "  font-weight: normal;\n",
       "  right: .2ex;\n",
       "  padding: .5ex;\n",
       "  margin: .5ex;\n",
       "  width: min-content;\n",
       "  min-width: 20ex;\n",
       "  max-width: 50ex;\n",
       "  color: var(--sklearn-color-text);\n",
       "  box-shadow: 2pt 2pt 4pt #999;\n",
       "  /* unfitted */\n",
       "  background: var(--sklearn-color-unfitted-level-0);\n",
       "  border: .5pt solid var(--sklearn-color-unfitted-level-3);\n",
       "}\n",
       "\n",
       ".sk-estimator-doc-link.fitted span {\n",
       "  /* fitted */\n",
       "  background: var(--sklearn-color-fitted-level-0);\n",
       "  border: var(--sklearn-color-fitted-level-3);\n",
       "}\n",
       "\n",
       ".sk-estimator-doc-link:hover span {\n",
       "  display: block;\n",
       "}\n",
       "\n",
       "/* \"?\"-specific style due to the `<a>` HTML tag */\n",
       "\n",
       "#sk-container-id-1 a.estimator_doc_link {\n",
       "  float: right;\n",
       "  font-size: 1rem;\n",
       "  line-height: 1em;\n",
       "  font-family: monospace;\n",
       "  background-color: var(--sklearn-color-background);\n",
       "  border-radius: 1rem;\n",
       "  height: 1rem;\n",
       "  width: 1rem;\n",
       "  text-decoration: none;\n",
       "  /* unfitted */\n",
       "  color: var(--sklearn-color-unfitted-level-1);\n",
       "  border: var(--sklearn-color-unfitted-level-1) 1pt solid;\n",
       "}\n",
       "\n",
       "#sk-container-id-1 a.estimator_doc_link.fitted {\n",
       "  /* fitted */\n",
       "  border: var(--sklearn-color-fitted-level-1) 1pt solid;\n",
       "  color: var(--sklearn-color-fitted-level-1);\n",
       "}\n",
       "\n",
       "/* On hover */\n",
       "#sk-container-id-1 a.estimator_doc_link:hover {\n",
       "  /* unfitted */\n",
       "  background-color: var(--sklearn-color-unfitted-level-3);\n",
       "  color: var(--sklearn-color-background);\n",
       "  text-decoration: none;\n",
       "}\n",
       "\n",
       "#sk-container-id-1 a.estimator_doc_link.fitted:hover {\n",
       "  /* fitted */\n",
       "  background-color: var(--sklearn-color-fitted-level-3);\n",
       "}\n",
       "</style><div id=\"sk-container-id-1\" class=\"sk-top-container\"><div class=\"sk-text-repr-fallback\"><pre>LinearRegression()</pre><b>In a Jupyter environment, please rerun this cell to show the HTML representation or trust the notebook. <br />On GitHub, the HTML representation is unable to render, please try loading this page with nbviewer.org.</b></div><div class=\"sk-container\" hidden><div class=\"sk-item\"><div class=\"sk-estimator fitted sk-toggleable\"><input class=\"sk-toggleable__control sk-hidden--visually\" id=\"sk-estimator-id-1\" type=\"checkbox\" checked><label for=\"sk-estimator-id-1\" class=\"sk-toggleable__label fitted sk-toggleable__label-arrow fitted\">&nbsp;&nbsp;LinearRegression<a class=\"sk-estimator-doc-link fitted\" rel=\"noreferrer\" target=\"_blank\" href=\"https://scikit-learn.org/1.5/modules/generated/sklearn.linear_model.LinearRegression.html\">?<span>Documentation for LinearRegression</span></a><span class=\"sk-estimator-doc-link fitted\">i<span>Fitted</span></span></label><div class=\"sk-toggleable__content fitted\"><pre>LinearRegression()</pre></div> </div></div></div></div>"
      ],
      "text/plain": [
       "LinearRegression()"
      ]
     },
     "execution_count": 47,
     "metadata": {},
     "output_type": "execute_result"
    }
   ],
   "source": [
    "# Train-test split\n",
    "X_train, X_test, y_train, y_test = train_test_split(X, y, test_size=0.2, random_state=42)\n",
    "\n",
    "# Build the regression model\n",
    "reg_model = LinearRegression()\n",
    "reg_model.fit(X_train, y_train)"
   ]
  },
  {
   "cell_type": "code",
   "execution_count": 48,
   "metadata": {},
   "outputs": [
    {
     "name": "stdout",
     "output_type": "stream",
     "text": [
      "Predicted satisfaction scores: [6.53642485e+08 6.42986432e+08 6.53639991e+08 ... 6.42986432e+08\n",
      " 6.42986432e+08 6.42986432e+08]\n"
     ]
    }
   ],
   "source": [
    "# Predict satisfaction scores\n",
    "y_pred = reg_model.predict(X_test)\n",
    "print(\"Predicted satisfaction scores:\", y_pred)"
   ]
  },
  {
   "cell_type": "code",
   "execution_count": 50,
   "metadata": {},
   "outputs": [
    {
     "data": {
      "image/png": "[encoded data removed]",
      "text/plain": [
       "<Figure size 640x480 with 1 Axes>"
      ]
     },
     "metadata": {},
     "output_type": "display_data"
    }
   ],
   "source": [
    "# Optionally, visualize the regression results\n",
    "import matplotlib.pyplot as plt\n",
    "plt.scatter(y_test, y_pred, color='blue')\n",
    "plt.plot([y_test.min(), y_test.max()], [y_test.min(), y_test.max()], 'k--', lw=3)\n",
    "plt.xlabel('Actual Satisfaction Score')\n",
    "plt.ylabel('Predicted Satisfaction Score')\n",
    "plt.title('Actual vs Predicted Satisfaction Scores')\n",
    "plt.show()"
   ]
  },
  {
   "cell_type": "markdown",
   "metadata": {},
   "source": [
    "# Run a k-means (k=2) on the engagement & the experience score."
   ]
  },
  {
   "cell_type": "code",
   "execution_count": 51,
   "metadata": {},
   "outputs": [],
   "source": [
    "# K-means clustering on engagement & experience scores\n",
    "kmeans = KMeans(n_clusters=2, random_state=42)\n",
    "df['Cluster'] = kmeans.fit_predict(df[['Engagement_Score', 'Experience_Score']])\n"
   ]
  },
  {
   "cell_type": "code",
   "execution_count": 53,
   "metadata": {},
   "outputs": [
    {
     "data": {
      "text/plain": [
       "0         0\n",
       "1         0\n",
       "2         0\n",
       "3         0\n",
       "4         0\n",
       "         ..\n",
       "149996    0\n",
       "149997    0\n",
       "149998    0\n",
       "149999    0\n",
       "150000    0\n",
       "Name: Cluster, Length: 150001, dtype: int32"
      ]
     },
     "execution_count": 53,
     "metadata": {},
     "output_type": "execute_result"
    }
   ],
   "source": [
    "df['Cluster']"
   ]
  },
  {
   "cell_type": "code",
   "execution_count": 57,
   "metadata": {},
   "outputs": [
    {
     "data": {
      "image/png": "[encoded data removed]",
      "text/plain": [
       "<Figure size 1000x600 with 1 Axes>"
      ]
     },
     "metadata": {},
     "output_type": "display_data"
    }
   ],
   "source": [
    "# Plot the clusters\n",
    "plt.figure(figsize=(10, 6))\n",
    "\n",
    "# Scatter plot of engagement and experience scores, colored by cluster\n",
    "plt.scatter(df['Engagement_Score'], df['Experience_Score'], c=df['Cluster'], cmap='viridis', label='Clusters')\n",
    "\n",
    "# Plot the cluster centers\n",
    "centers = kmeans.cluster_centers_\n",
    "plt.scatter(centers[:, 0], centers[:, 1], c='red', s=200, alpha=0.75, marker='X', label='Centroids')\n",
    "\n",
    "# Add labels and title\n",
    "plt.xlabel('Engagement Score')\n",
    "plt.ylabel('Experience Score')\n",
    "plt.title('K-Means Clustering of Engagement and Experience Scores')\n",
    "\n",
    "# Display the legend\n",
    "plt.legend()\n",
    "\n",
    "# Show the plot\n",
    "plt.show()"
   ]
  },
  {
   "cell_type": "markdown",
   "metadata": {},
   "source": [
    "# Aggregate the average satisfaction & experience score per cluster. "
   ]
  },
  {
   "cell_type": "code",
   "execution_count": 58,
   "metadata": {},
   "outputs": [
    {
     "name": "stdout",
     "output_type": "stream",
     "text": [
      "Average Satisfaction & Experience Score per Cluster:\n",
      "    Cluster  Satisfaction_Score  Experience_Score\n",
      "0        0        6.458114e+08      1.286088e+09\n",
      "1        1        8.103186e+08      4.065490e+08\n"
     ]
    }
   ],
   "source": [
    "# Task 4.5 - Aggregate average satisfaction & experience score per cluster\n",
    "cluster_avg = df.groupby('Cluster').agg({'Satisfaction_Score': 'mean', 'Experience_Score': 'mean'}).reset_index()\n",
    "print(\"Average Satisfaction & Experience Score per Cluster:\\n\", cluster_avg)\n"
   ]
  },
  {
   "cell_type": "code",
   "execution_count": 59,
   "metadata": {},
   "outputs": [
    {
     "data": {
      "image/png": "[encoded data removed]",
      "text/plain": [
       "<Figure size 1000x600 with 1 Axes>"
      ]
     },
     "metadata": {},
     "output_type": "display_data"
    }
   ],
   "source": [
    "# Plotting\n",
    "plt.figure(figsize=(10, 6))\n",
    "\n",
    "# Create a bar plot\n",
    "sns.barplot(data=cluster_avg.melt(id_vars='Cluster', value_vars=['Satisfaction_Score', 'Experience_Score']),\n",
    "            x='Cluster', y='value', hue='variable', palette='viridis')\n",
    "\n",
    "# Add labels and title\n",
    "plt.xlabel('Cluster')\n",
    "plt.ylabel('Average Score')\n",
    "plt.title('Average Satisfaction & Experience Score per Cluster')\n",
    "plt.legend(title='Score Type')\n",
    "plt.xticks(rotation=45)  # Rotate x labels for better readability\n",
    "\n",
    "# Show plot\n",
    "plt.tight_layout()\n",
    "plt.show()"
   ]
  },
  {
   "cell_type": "code",
   "execution_count": 60,
   "metadata": {},
   "outputs": [
    {
     "ename": "ModuleNotFoundError",
     "evalue": "No module named 'mlflow'",
     "output_type": "error",
     "traceback": [
      "\u001b[1;31m---------------------------------------------------------------------------\u001b[0m",
      "\u001b[1;31mModuleNotFoundError\u001b[0m                       Traceback (most recent call last)",
      "Cell \u001b[1;32mIn[60], line 1\u001b[0m\n\u001b[1;32m----> 1\u001b[0m \u001b[38;5;28;01mimport\u001b[39;00m \u001b[38;5;21;01mmlflow\u001b[39;00m\n\u001b[0;32m      2\u001b[0m \u001b[38;5;28;01mimport\u001b[39;00m \u001b[38;5;21;01mmlflow\u001b[39;00m\u001b[38;5;21;01m.\u001b[39;00m\u001b[38;5;21;01msklearn\u001b[39;00m\n\u001b[0;32m      4\u001b[0m \u001b[38;5;66;03m# Task 4.7 - Model tracking using MLFlow\u001b[39;00m\n",
      "\u001b[1;31mModuleNotFoundError\u001b[0m: No module named 'mlflow'"
     ]
    }
   ],
   "source": [
    "import mlflow\n",
    "import mlflow.sklearn\n",
    "\n",
    "# Task 4.7 - Model tracking using MLFlow\n",
    "mlflow.start_run()\n",
    "\n",
    "# Log parameters and model\n",
    "mlflow.log_param(\"model_type\", \"LinearRegression\")\n",
    "mlflow.sklearn.log_model(reg_model, \"linear_regression_model\")\n",
    "mlflow.log_metric(\"train_score\", reg_model.score(X_train, y_train))\n",
    "mlflow.log_metric(\"test_score\", reg_model.score(X_test, y_test))\n",
    "\n",
    "mlflow.end_run()\n"
   ]
  }
 ],
 "metadata": {
  "kernelspec": {
   "display_name": "venv",
   "language": "python",
   "name": "python3"
  },
  "language_info": {
   "codemirror_mode": {
    "name": "ipython",
    "version": 3
   },
   "file_extension": ".py",
   "mimetype": "text/x-python",
   "name": "python",
   "nbconvert_exporter": "python",
   "pygments_lexer": "ipython3",
   "version": "3.12.6"
  }
 },
 "nbformat": 4,
 "nbformat_minor": 2
}
